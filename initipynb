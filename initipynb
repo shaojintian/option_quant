{
 "cells": [
  {
   "cell_type": "code",
   "execution_count": 1,
   "id": "18f45e6e-9c8b-484c-8643-22f41a3c4d64",
   "metadata": {
    "tags": []
   },
   "outputs": [
    {
     "name": "stdout",
     "output_type": "stream",
     "text": [
      "3.11.3\n"
     ]
    }
   ],
   "source": [
    "from platform import python_version\n",
    "\n",
    "print(python_version())"
   ]
  },
  {
   "cell_type": "code",
   "execution_count": 2,
   "id": "1f75c628-828f-4059-9e3f-757f31970e22",
   "metadata": {
    "tags": []
   },
   "outputs": [
    {
     "name": "stdout",
     "output_type": "stream",
     "text": [
      "Requirement already satisfied: jqdatasdk in /opt/homebrew/anaconda3/lib/python3.11/site-packages (1.9.0)\n",
      "Requirement already satisfied: six in /opt/homebrew/anaconda3/lib/python3.11/site-packages (from jqdatasdk) (1.16.0)\n",
      "Requirement already satisfied: requests in /opt/homebrew/anaconda3/lib/python3.11/site-packages (from jqdatasdk) (2.31.0)\n",
      "Requirement already satisfied: numpy>=1.9.2 in /opt/homebrew/anaconda3/lib/python3.11/site-packages (from jqdatasdk) (1.24.3)\n",
      "Requirement already satisfied: pandas>=0.16.2 in /opt/homebrew/anaconda3/lib/python3.11/site-packages (from jqdatasdk) (1.5.3)\n",
      "Requirement already satisfied: SQLAlchemy>=1.2.8 in /opt/homebrew/anaconda3/lib/python3.11/site-packages (from jqdatasdk) (1.4.39)\n",
      "Requirement already satisfied: thriftpy2>=0.3.9 in /opt/homebrew/anaconda3/lib/python3.11/site-packages (from jqdatasdk) (0.4.16)\n",
      "Requirement already satisfied: pymysql>=0.7.6 in /opt/homebrew/anaconda3/lib/python3.11/site-packages (from jqdatasdk) (1.1.0)\n",
      "Requirement already satisfied: msgpack>=0.4.7 in /opt/homebrew/anaconda3/lib/python3.11/site-packages (from jqdatasdk) (1.0.3)\n",
      "Requirement already satisfied: python-dateutil>=2.8.1 in /opt/homebrew/anaconda3/lib/python3.11/site-packages (from pandas>=0.16.2->jqdatasdk) (2.8.2)\n",
      "Requirement already satisfied: pytz>=2020.1 in /opt/homebrew/anaconda3/lib/python3.11/site-packages (from pandas>=0.16.2->jqdatasdk) (2022.7)\n",
      "Requirement already satisfied: ply<4.0,>=3.4 in /opt/homebrew/anaconda3/lib/python3.11/site-packages (from thriftpy2>=0.3.9->jqdatasdk) (3.11)\n",
      "Requirement already satisfied: charset-normalizer<4,>=2 in /opt/homebrew/anaconda3/lib/python3.11/site-packages (from requests->jqdatasdk) (3.2.0)\n",
      "Requirement already satisfied: idna<4,>=2.5 in /opt/homebrew/anaconda3/lib/python3.11/site-packages (from requests->jqdatasdk) (3.4)\n",
      "Requirement already satisfied: urllib3<3,>=1.21.1 in /opt/homebrew/anaconda3/lib/python3.11/site-packages (from requests->jqdatasdk) (2.0.4)\n",
      "Requirement already satisfied: certifi>=2017.4.17 in /opt/homebrew/anaconda3/lib/python3.11/site-packages (from requests->jqdatasdk) (2023.7.22)\n",
      "Note: you may need to restart the kernel to use updated packages.\n"
     ]
    }
   ],
   "source": [
    "pip install jqdatasdk\n"
   ]
  },
  {
   "cell_type": "code",
   "execution_count": 3,
   "id": "572d8833-b744-4ff1-835e-f86dab0a9e35",
   "metadata": {
    "tags": []
   },
   "outputs": [
    {
     "name": "stdout",
     "output_type": "stream",
     "text": [
      "Requirement already satisfied: jqfactor_analyzer in /opt/homebrew/anaconda3/lib/python3.11/site-packages (1.0.10)\n",
      "Requirement already satisfied: six in /opt/homebrew/anaconda3/lib/python3.11/site-packages (from jqfactor_analyzer) (1.16.0)\n",
      "Requirement already satisfied: fastcache>=1.0.2 in /opt/homebrew/anaconda3/lib/python3.11/site-packages (from jqfactor_analyzer) (1.1.0)\n",
      "Requirement already satisfied: SQLAlchemy>=1.2.8 in /opt/homebrew/anaconda3/lib/python3.11/site-packages (from jqfactor_analyzer) (1.4.39)\n",
      "Requirement already satisfied: cached-property>=1.5.1 in /opt/homebrew/anaconda3/lib/python3.11/site-packages (from jqfactor_analyzer) (1.5.2)\n",
      "Requirement already satisfied: statsmodels in /opt/homebrew/anaconda3/lib/python3.11/site-packages (from jqfactor_analyzer) (0.13.5)\n",
      "Requirement already satisfied: scipy in /opt/homebrew/anaconda3/lib/python3.11/site-packages (from jqfactor_analyzer) (1.10.1)\n",
      "Requirement already satisfied: numpy>=1.9.2 in /opt/homebrew/anaconda3/lib/python3.11/site-packages (from jqfactor_analyzer) (1.24.3)\n",
      "Requirement already satisfied: pandas>=0.16.2 in /opt/homebrew/anaconda3/lib/python3.11/site-packages (from jqfactor_analyzer) (1.5.3)\n",
      "Requirement already satisfied: matplotlib in /opt/homebrew/anaconda3/lib/python3.11/site-packages (from jqfactor_analyzer) (3.7.1)\n",
      "Requirement already satisfied: seaborn in /opt/homebrew/anaconda3/lib/python3.11/site-packages (from jqfactor_analyzer) (0.12.2)\n",
      "Requirement already satisfied: jqdatasdk in /opt/homebrew/anaconda3/lib/python3.11/site-packages (from jqfactor_analyzer) (1.9.0)\n",
      "Requirement already satisfied: python-dateutil>=2.8.1 in /opt/homebrew/anaconda3/lib/python3.11/site-packages (from pandas>=0.16.2->jqfactor_analyzer) (2.8.2)\n",
      "Requirement already satisfied: pytz>=2020.1 in /opt/homebrew/anaconda3/lib/python3.11/site-packages (from pandas>=0.16.2->jqfactor_analyzer) (2022.7)\n",
      "Requirement already satisfied: requests in /opt/homebrew/anaconda3/lib/python3.11/site-packages (from jqdatasdk->jqfactor_analyzer) (2.31.0)\n",
      "Requirement already satisfied: thriftpy2>=0.3.9 in /opt/homebrew/anaconda3/lib/python3.11/site-packages (from jqdatasdk->jqfactor_analyzer) (0.4.16)\n",
      "Requirement already satisfied: pymysql>=0.7.6 in /opt/homebrew/anaconda3/lib/python3.11/site-packages (from jqdatasdk->jqfactor_analyzer) (1.1.0)\n",
      "Requirement already satisfied: msgpack>=0.4.7 in /opt/homebrew/anaconda3/lib/python3.11/site-packages (from jqdatasdk->jqfactor_analyzer) (1.0.3)\n",
      "Requirement already satisfied: contourpy>=1.0.1 in /opt/homebrew/anaconda3/lib/python3.11/site-packages (from matplotlib->jqfactor_analyzer) (1.0.5)\n",
      "Requirement already satisfied: cycler>=0.10 in /opt/homebrew/anaconda3/lib/python3.11/site-packages (from matplotlib->jqfactor_analyzer) (0.11.0)\n",
      "Requirement already satisfied: fonttools>=4.22.0 in /opt/homebrew/anaconda3/lib/python3.11/site-packages (from matplotlib->jqfactor_analyzer) (4.25.0)\n",
      "Requirement already satisfied: kiwisolver>=1.0.1 in /opt/homebrew/anaconda3/lib/python3.11/site-packages (from matplotlib->jqfactor_analyzer) (1.4.4)\n",
      "Requirement already satisfied: packaging>=20.0 in /opt/homebrew/anaconda3/lib/python3.11/site-packages (from matplotlib->jqfactor_analyzer) (23.0)\n",
      "Requirement already satisfied: pillow>=6.2.0 in /opt/homebrew/anaconda3/lib/python3.11/site-packages (from matplotlib->jqfactor_analyzer) (9.4.0)\n",
      "Requirement already satisfied: pyparsing>=2.3.1 in /opt/homebrew/anaconda3/lib/python3.11/site-packages (from matplotlib->jqfactor_analyzer) (3.0.9)\n",
      "Requirement already satisfied: patsy>=0.5.2 in /opt/homebrew/anaconda3/lib/python3.11/site-packages (from statsmodels->jqfactor_analyzer) (0.5.3)\n",
      "Requirement already satisfied: ply<4.0,>=3.4 in /opt/homebrew/anaconda3/lib/python3.11/site-packages (from thriftpy2>=0.3.9->jqdatasdk->jqfactor_analyzer) (3.11)\n",
      "Requirement already satisfied: charset-normalizer<4,>=2 in /opt/homebrew/anaconda3/lib/python3.11/site-packages (from requests->jqdatasdk->jqfactor_analyzer) (3.2.0)\n",
      "Requirement already satisfied: idna<4,>=2.5 in /opt/homebrew/anaconda3/lib/python3.11/site-packages (from requests->jqdatasdk->jqfactor_analyzer) (3.4)\n",
      "Requirement already satisfied: urllib3<3,>=1.21.1 in /opt/homebrew/anaconda3/lib/python3.11/site-packages (from requests->jqdatasdk->jqfactor_analyzer) (2.0.4)\n",
      "Requirement already satisfied: certifi>=2017.4.17 in /opt/homebrew/anaconda3/lib/python3.11/site-packages (from requests->jqdatasdk->jqfactor_analyzer) (2023.7.22)\n",
      "Note: you may need to restart the kernel to use updated packages.\n"
     ]
    }
   ],
   "source": [
    "pip install jqfactor_analyzer"
   ]
  },
  {
   "cell_type": "code",
   "execution_count": 4,
   "id": "ab8df130-369a-4eb7-9413-cbf846f76e45",
   "metadata": {
    "tags": []
   },
   "outputs": [
    {
     "name": "stdout",
     "output_type": "stream",
     "text": [
      "Note: you may need to restart the kernel to use updated packages.\n"
     ]
    }
   ],
   "source": [
    "pip freeze > requirements.txt"
   ]
  },
  {
   "cell_type": "code",
   "execution_count": null,
   "id": "a3559052-70a6-4c9c-9311-9efd861ad18a",
   "metadata": {},
   "outputs": [],
   "source": []
  }
 ],
 "metadata": {
  "kernelspec": {
   "display_name": "Python 3 (ipykernel)",
   "language": "python",
   "name": "python3"
  },
  "language_info": {
   "codemirror_mode": {
    "name": "ipython",
    "version": 3
   },
   "file_extension": ".py",
   "mimetype": "text/x-python",
   "name": "python",
   "nbconvert_exporter": "python",
   "pygments_lexer": "ipython3",
   "version": "3.11.3"
  }
 },
 "nbformat": 4,
 "nbformat_minor": 5
}
