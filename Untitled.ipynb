{
 "cells": [
  {
   "cell_type": "code",
   "execution_count": 1,
   "id": "7450ec0e-3da8-4772-8a42-6f77675b051e",
   "metadata": {},
   "outputs": [],
   "source": [
    "import pandas as pd\n",
    "import numpy as np\n",
    "import jqfactor_analyzer as ja\n",
    "import numba\n",
    "import yfinance as yf\n",
    "import backtrader as bk\n",
    "import akshare as ak\n",
    "import os\n",
    "import scipy"
   ]
  },
  {
   "cell_type": "code",
   "execution_count": 3,
   "id": "7be6c4d4-e905-48bc-9086-333a829c903b",
   "metadata": {},
   "outputs": [
    {
     "name": "stdout",
     "output_type": "stream",
     "text": [
      "ADF Statistic: -1.1320384625097901\n",
      "p-value: 0.7021277385898382\n",
      "Critical Values: {'1%': -3.498198082189098, '5%': -2.891208211860468, '10%': -2.5825959973472097}\n"
     ]
    }
   ],
   "source": [
    "import numpy as np\n",
    "import pandas as pd\n",
    "import statsmodels.api as sm\n",
    "\n",
    "# 创建一个随机的非平稳时间序列\n",
    "np.random.seed(0)\n",
    "n = 100\n",
    "nonstationary_series = np.cumsum(np.random.randn(n))\n",
    "\n",
    "# 进行ADF检验\n",
    "result = sm.tsa.adfuller(nonstationary_series)\n",
    "adf_statistic = result[0]\n",
    "p_value = result[1]\n",
    "critical_values = result[4]\n",
    "\n",
    "print(\"ADF Statistic:\", adf_statistic)\n",
    "print(\"p-value:\", p_value)\n",
    "print(\"Critical Values:\", critical_values)\n"
   ]
  },
  {
   "cell_type": "code",
   "execution_count": null,
   "id": "74bd5e32-21ba-4b78-a4dc-56303e1dcd90",
   "metadata": {},
   "outputs": [],
   "source": []
  }
 ],
 "metadata": {
  "kernelspec": {
   "display_name": "Python 3 (ipykernel)",
   "language": "python",
   "name": "python3"
  },
  "language_info": {
   "codemirror_mode": {
    "name": "ipython",
    "version": 3
   },
   "file_extension": ".py",
   "mimetype": "text/x-python",
   "name": "python",
   "nbconvert_exporter": "python",
   "pygments_lexer": "ipython3",
   "version": "3.10.10"
  }
 },
 "nbformat": 4,
 "nbformat_minor": 5
}
