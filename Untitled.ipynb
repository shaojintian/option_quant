{
 "cells": [
  {
   "cell_type": "code",
   "execution_count": 1,
   "id": "7450ec0e-3da8-4772-8a42-6f77675b051e",
   "metadata": {},
   "outputs": [],
   "source": [
    "import pandas as pd\n",
    "import numpy as np\n",
    "import jqfactor_analyzer as ja\n",
    "import numba\n",
    "import yfinance as yf\n",
    "import backtrader as bk\n",
    "import akshare as ak\n",
    "import os\n",
    "import scipy"
   ]
  },
  {
   "cell_type": "code",
   "execution_count": null,
   "id": "7be6c4d4-e905-48bc-9086-333a829c903b",
   "metadata": {},
   "outputs": [],
   "source": [
    "macro_bank_usa_interest_rate_df = ak.macro_bank_usa_interest_rate()\n",
    "macro_bank_usa_interest_rate_df = macro_bank_usa_interest_rate_df['日期'>'2018-01-01']\n",
    "print(macro_bank_usa_interest_rate_df)"
   ]
  },
  {
   "cell_type": "code",
   "execution_count": null,
   "id": "74bd5e32-21ba-4b78-a4dc-56303e1dcd90",
   "metadata": {},
   "outputs": [],
   "source": []
  }
 ],
 "metadata": {
  "kernelspec": {
   "display_name": "Python 3 (ipykernel)",
   "language": "python",
   "name": "python3"
  },
  "language_info": {
   "codemirror_mode": {
    "name": "ipython",
    "version": 3
   },
   "file_extension": ".py",
   "mimetype": "text/x-python",
   "name": "python",
   "nbconvert_exporter": "python",
   "pygments_lexer": "ipython3",
   "version": "3.10.10"
  }
 },
 "nbformat": 4,
 "nbformat_minor": 5
}
