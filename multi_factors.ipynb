{
 "cells": [
  {
   "cell_type": "code",
   "execution_count": 1,
   "id": "400550f4-1c7b-4357-8466-f69b1779c349",
   "metadata": {},
   "outputs": [
    {
     "name": "stdout",
     "output_type": "stream",
     "text": [
      "/Library/Frameworks/Python.framework/Versions/3.10/bin/python3.10\n",
      "3.10.10\n"
     ]
    }
   ],
   "source": [
    "from platform import python_version\n",
    "import sys\n",
    "print(sys.executable)\n",
    "print(python_version())"
   ]
  },
  {
   "cell_type": "code",
   "execution_count": 14,
   "id": "18f45e6e-9c8b-484c-8643-22f41a3c4d64",
   "metadata": {
    "ExecuteTime": {
     "end_time": "2023-08-03T10:41:53.817578Z",
     "start_time": "2023-08-03T10:41:51.913Z"
    },
    "tags": []
   },
   "outputs": [],
   "source": [
    "import pandas as pd\n",
    "import numpy as np\n",
    "import jqfactor_analyzer as ja\n",
    "import numba\n",
    "import yfinance as yf\n",
    "import backtrader as bk\n",
    "import akshare as ak\n",
    "import os\n",
    "import scipy\n",
    "import statsmodels.api as sm\n",
    "import random"
   ]
  },
  {
   "cell_type": "code",
   "execution_count": 3,
   "id": "0d6e3967-f067-4fda-8ee6-ba254313aa95",
   "metadata": {},
   "outputs": [
    {
     "data": {
      "text/plain": [
       "'http://127.0.0.1:7890'"
      ]
     },
     "execution_count": 3,
     "metadata": {},
     "output_type": "execute_result"
    }
   ],
   "source": [
    "os.environ.get('http_proxy')\n",
    "os.environ.get('https_proxy')"
   ]
  },
  {
   "cell_type": "code",
   "execution_count": 4,
   "id": "316f3b22-279c-418d-8e3b-0588ddbbd6c5",
   "metadata": {
    "ExecuteTime": {
     "end_time": "2023-08-03T10:46:03.882840Z",
     "start_time": "2023-08-03T10:42:16.802272Z"
    },
    "tags": []
   },
   "outputs": [],
   "source": [
    "#pip freeze > requirements.txt"
   ]
  },
  {
   "cell_type": "code",
   "execution_count": 5,
   "id": "1f75c628-828f-4059-9e3f-757f31970e22",
   "metadata": {
    "ExecuteTime": {
     "end_time": "2023-08-03T10:48:00.259054Z",
     "start_time": "2023-08-03T10:46:43.878560Z"
    },
    "tags": []
   },
   "outputs": [
    {
     "name": "stdout",
     "output_type": "stream",
     "text": [
      "      symbol  code\n",
      "0   NYBOT-棉花    CT\n",
      "1    LME镍3个月   NID\n",
      "2    LME铅3个月   PBD\n",
      "3    LME锡3个月   SND\n",
      "4    LME锌3个月   ZSD\n",
      "5    LME铝3个月   AHD\n",
      "6    LME铜3个月   CAD\n",
      "7    CBOT-黄豆     S\n",
      "8    CBOT-小麦     W\n",
      "9    CBOT-玉米     C\n",
      "10  CBOT-黄豆油    BO\n",
      "11  CBOT-黄豆粉    SM\n",
      "12      日本橡胶   TRB\n",
      "13    COMEX铜    HG\n",
      "14  NYMEX天然气    NG\n",
      "15   NYMEX原油    CL\n",
      "16   COMEX白银    SI\n",
      "17   COMEX黄金    GC\n",
      "18   CME-瘦肉猪   LHC\n",
      "19     布伦特原油   OIL\n",
      "20       伦敦金   XAU\n",
      "21       伦敦银   XAG\n",
      "22      伦敦铂金   XPT\n",
      "23      伦敦钯金   XPD\n",
      "24       马棕油  FCPO\n",
      "25     欧洲碳排放   EUA\n"
     ]
    }
   ],
   "source": [
    "#data\n",
    "futures_hq_subscribe_exchange_symbol_df = ak.futures_hq_subscribe_exchange_symbol()\n",
    "print(futures_hq_subscribe_exchange_symbol_df)\n"
   ]
  },
  {
   "cell_type": "code",
   "execution_count": 6,
   "id": "572d8833-b744-4ff1-835e-f86dab0a9e35",
   "metadata": {
    "tags": []
   },
   "outputs": [
    {
     "data": {
      "text/plain": [
       "'\\n布伦特原油   OIL         SC\\nNYMEX天然气    NG       PG\\n伦敦金   XAU            AU\\n伦敦银   XAG            AG\\nLME镍3个月   NID\\n2    LME铅3个月   PBD\\n3    LME锡3个月   SND\\n4    LME锌3个月   ZSD\\n5    LME铝3个月   AHD\\n6    LME铜3个月   CAD   BC\\n'"
      ]
     },
     "execution_count": 6,
     "metadata": {},
     "output_type": "execute_result"
    }
   ],
   "source": [
    "'''\n",
    "布伦特原油   OIL         SC\n",
    "NYMEX天然气    NG       PG\n",
    "伦敦金   XAU            AU\n",
    "伦敦银   XAG            AG\n",
    "LME镍3个月   NID\n",
    "2    LME铅3个月   PBD\n",
    "3    LME锡3个月   SND\n",
    "4    LME锌3个月   ZSD\n",
    "5    LME铝3个月   AHD\n",
    "6    LME铜3个月   CAD   BC\n",
    "'''"
   ]
  },
  {
   "cell_type": "code",
   "execution_count": 12,
   "id": "38abd1f3-8eb7-42c8-97a4-234aba0c381c",
   "metadata": {
    "tags": []
   },
   "outputs": [
    {
     "name": "stdout",
     "output_type": "stream",
     "text": [
      "cointegration_statistic: -1.03867942708734\n",
      "p-value: 0.8952623048915642\n",
      "OIL-SC0 Pearson Correlation: 0.9363947375489301 \n",
      "\n",
      "cointegration_statistic: -2.717362546790909\n",
      "p-value: 0.19339629842201905\n",
      "CAD-CU0 Pearson Correlation: 0.8998826197080161 \n",
      "\n",
      "cointegration_statistic: -2.8796864798399935\n",
      "p-value: 0.14164155607175677\n",
      "CAD-BC0 Pearson Correlation: 0.9057872567204117 \n",
      "\n"
     ]
    }
   ],
   "source": [
    "s1 = ['OIL','NG','XAU','XAG','CAD','PBD','NID','CAD',]\n",
    "s2 = ['SC0','PG0','AU0','AG0','CU0','PB0','NI0','BC0',]\n",
    "\n",
    "start_date = '2021-01-01'\n",
    "end_date = '2023-08-10'\n",
    "\n",
    "#@numba.jit(nopython=True)\n",
    "def future_arb():\n",
    "    for i in range(len(s1)):\n",
    "        # if s1[i] not in ['OIL','CAD']:\n",
    "        #     continue\n",
    "        #corr ayasis\n",
    "        futures_foreign_hist_df = ak.futures_foreign_hist(symbol=s1[i])\n",
    "        futures_foreign_hist_df = futures_foreign_hist_df[(futures_foreign_hist_df.date >= start_date) & (futures_foreign_hist_df.date <= '2023-08-10')]\n",
    "        date_range = pd.date_range(start=futures_foreign_hist_df[\"date\"].min(), end=futures_foreign_hist_df[\"date\"].max(), freq=\"D\")  # freq=\"D\"表示按天，可以按分钟，月，季度，年等\n",
    "        futures_foreign_hist_df['date'] = pd.to_datetime(futures_foreign_hist_df['date'])\n",
    "        futures_foreign_hist_df = futures_foreign_hist_df.set_index(\"date\")\n",
    "        futures_foreign_hist_df = futures_foreign_hist_df.resample(\"D\").ffill()\n",
    "        #print(futures_foreign_hist_df['close'])\n",
    "        #print(futures_foreign_hist_df)\n",
    "    \n",
    "        #\n",
    "        futures_zh_daily_sina_df = ak.futures_zh_daily_sina(symbol=s2[i])\n",
    "        futures_zh_daily_sina_df = futures_zh_daily_sina_df[(futures_zh_daily_sina_df.date>=start_date) & (futures_zh_daily_sina_df.date <= '2023-08-10')]\n",
    "        date_range = pd.date_range(start=futures_zh_daily_sina_df[\"date\"].min(), end=futures_zh_daily_sina_df[\"date\"].max(), freq=\"D\")  # freq=\"D\"表示按天，可以按分钟，月，季度，年等\n",
    "        futures_zh_daily_sina_df['date'] = pd.to_datetime(futures_zh_daily_sina_df['date'])\n",
    "        futures_zh_daily_sina_df = futures_zh_daily_sina_df.set_index(\"date\")\n",
    "        futures_zh_daily_sina_df = futures_zh_daily_sina_df.resample(\"D\").ffill()\n",
    "        \n",
    "        #print(futures_zh_daily_sina_df)\n",
    "        # print(s1[i])\n",
    "        # print(len(futures_foreign_hist_df))\n",
    "        # print(len(futures_zh_daily_sina_df))\n",
    "        #print(np.array(futures_foreign_hist_df['close']))\n",
    "        ## 计算Pearson相关系数\n",
    "\n",
    "        # 进行ADF检验\n",
    "        result = sm.tsa.coint(futures_zh_daily_sina_df['close'], futures_foreign_hist_df['close'])\n",
    "        cointegration_statistic = result[0]\n",
    "        p_value = result[1]\n",
    "        \n",
    "        print(\"cointegration_statistic:\", cointegration_statistic)\n",
    "        print(\"p-value:\", p_value)\n",
    "\n",
    "        #shift 1\n",
    "        df_for = [futures_foreign_hist_df['close'][0] for i in range(1)] + futures_foreign_hist_df['close'][:-1].tolist()\n",
    "        \n",
    "        # pearson_corr, _ = scipy.stats.pearsonr(futures_zh_daily_sina_df['close'][10:], df_for[10:])\n",
    "        # print(\"shifted %s-%s Pearson Correlation:\" %(s1[i],s2[i]), pearson_corr)\n",
    "\n",
    "        pearson_corr, _ = scipy.stats.pearsonr(futures_zh_daily_sina_df['close'], futures_foreign_hist_df['close'])\n",
    "        print(\"%s-%s Pearson Correlation:\" %(s1[i],s2[i]), pearson_corr,'\\n')\n",
    "future_arb()"
   ]
  },
  {
   "cell_type": "code",
   "execution_count": null,
   "id": "8bcd13c8-3d16-42d9-9e35-ac1501ab0f3d",
   "metadata": {},
   "outputs": [],
   "source": [
    "#ak.futures_display_main_sina()[symbol=='au0']"
   ]
  },
  {
   "cell_type": "code",
   "execution_count": null,
   "id": "ce793d3e-5cf1-4d10-a6a5-aa845ceaf0cc",
   "metadata": {},
   "outputs": [],
   "source": [
    "import math\n",
    "s1 = ['SC0','PG0','AU0','AG0','CU0','PB0','NI0','BC0','A0','B0','M0','JM0','J0','C0','CS0','MA0','PP0','CU0','RU0','Y0','P0',\"AU0\", \"AG0\", \"CU0\", \"AL0\", \"ZN0\", \"PB0\", \"NI0\", \"SN0\", \"RB0\", \"HC0\",\n",
    "    \"BU0\", \"RU0\", \"FU0\", \"SP0\", \"WR0\", \"SS0\", \"SA0\", \"UR0\", \"SR0\", \"CF0\",\n",
    "    \"TA0\", \"MA0\", \"FG0\", \"RS0\", \"OI0\",\n",
    "    \"JR0\", \"SF0\", \"SM0\", \"AP0\", \"CJ0\", \"CY0\", \"RR0\", \"BB0\", \"FB0\",\n",
    "    \"EB0\", \"V0\", \"L0\", \"PP0\", \"CS0\", \"JD0\", \"BU0\", \"HC0\"]\n",
    "#s2 = ['SC0','PG0','AU0','AG0','CU0','PB0','NI0','BC0','A0','B0','M0','JM0','J0','C0','CS0','MA0','PP0','CU0','RU0','Y0','P0']\n",
    "\n",
    "#内盘\n",
    "start_date = '2021-01-01'\n",
    "end_date = '2023-08-10'\n",
    "\n",
    "#@numba.jit(nopython=True)\n",
    "def future_AA_arb():\n",
    "    for i in range(1000000):\n",
    "        # bc-cu,jm-j,rb-hc,cf-cy(x)\n",
    "        s11 = random.choice(s1)\n",
    "        futures_foreign_hist_df = ak.futures_zh_daily_sina(symbol=s11)\n",
    "        futures_foreign_hist_df = futures_foreign_hist_df[(futures_foreign_hist_df.date >= start_date) & (futures_foreign_hist_df.date <= '2023-08-10')]\n",
    "        date_range = pd.date_range(start=futures_foreign_hist_df[\"date\"].min(), end=futures_foreign_hist_df[\"date\"].max(), freq=\"D\")  # freq=\"D\"表示按天，可以按分钟，月，季度，年等\n",
    "        futures_foreign_hist_df['date'] = pd.to_datetime(futures_foreign_hist_df['date'])\n",
    "        futures_foreign_hist_df = futures_foreign_hist_df.set_index(\"date\")\n",
    "        futures_foreign_hist_df = futures_foreign_hist_df.resample(\"D\").ffill()\n",
    "        #print(futures_foreign_hist_df['close'])\n",
    "        #print(futures_foreign_hist_df)\n",
    "    \n",
    "        #\n",
    "        s22 = random.choice(s1)\n",
    "        if s22 == s11:\n",
    "            continue\n",
    "        #print(s11,s22)\n",
    "        futures_zh_daily_sina_df = ak.futures_zh_daily_sina(symbol=s22)\n",
    "        futures_zh_daily_sina_df = futures_zh_daily_sina_df[(futures_zh_daily_sina_df.date>=start_date) & (futures_zh_daily_sina_df.date <= '2023-08-10')]\n",
    "        date_range = pd.date_range(start=futures_zh_daily_sina_df[\"date\"].min(), end=futures_zh_daily_sina_df[\"date\"].max(), freq=\"D\")  # freq=\"D\"表示按天，可以按分钟，月，季度，年等\n",
    "        futures_zh_daily_sina_df['date'] = pd.to_datetime(futures_zh_daily_sina_df['date'])\n",
    "        futures_zh_daily_sina_df = futures_zh_daily_sina_df.set_index(\"date\")\n",
    "        futures_zh_daily_sina_df = futures_zh_daily_sina_df.resample(\"D\").ffill()\n",
    "        \n",
    "        #print(futures_zh_daily_sina_df)\n",
    "        # print(s1[i])\n",
    "        # print(len(futures_foreign_hist_df))\n",
    "        # print(len(futures_zh_daily_sina_df))\n",
    "        #print(np.array(futures_foreign_hist_df['close']))\n",
    "        ## 计算Pearson相关系数\n",
    "\n",
    "        #shift 1\n",
    "        df_for = [futures_foreign_hist_df['close'][0] for i in range(1)] + futures_foreign_hist_df['close'][:-1].tolist()\n",
    "        \n",
    "        # pearson_corr, _ = scipy.stats.pearsonr(futures_zh_daily_sina_df['close'][10:], df_for[10:])\n",
    "        # print(\"shifted %s-%s Pearson Correlation:\" %(s1[i],s2[i]), pearson_corr)\n",
    "        try:\n",
    "            pearson_corr, _ = scipy.stats.pearsonr(futures_zh_daily_sina_df['close'], futures_foreign_hist_df['close'])\n",
    "        except:\n",
    "            continue\n",
    "        if abs(pearson_corr) > 0.95:\n",
    "            print(\"%s-%s Pearson Correlation:\" %(s11,s22), pearson_corr)\n",
    "                 # 进行ADF检验\n",
    "            try:\n",
    "                result = sm.tsa.coint(futures_zh_daily_sina_df['close'], futures_foreign_hist_df['close'])\n",
    "                cointegration_statistic = result[0]\n",
    "                p_value = result[1]\n",
    "                \n",
    "                print(\"cointegration_statistic:\", cointegration_statistic)\n",
    "                print(\"p-value:\", p_value,'\\n')\n",
    "            except:\n",
    "                continue\n",
    "future_AA_arb()"
   ]
  },
  {
   "cell_type": "code",
   "execution_count": null,
   "id": "5400b9e2-0573-4ea3-9780-b9f6994c4917",
   "metadata": {},
   "outputs": [],
   "source": []
  },
  {
   "cell_type": "code",
   "execution_count": null,
   "id": "15871a7d-ec56-4e69-bc31-b295b9e10a69",
   "metadata": {},
   "outputs": [],
   "source": []
  },
  {
   "cell_type": "code",
   "execution_count": null,
   "id": "ab8df130-369a-4eb7-9413-cbf846f76e45",
   "metadata": {
    "tags": []
   },
   "outputs": [],
   "source": []
  },
  {
   "cell_type": "code",
   "execution_count": null,
   "id": "ab45ff1e-c594-49d6-93ee-5cad668661e6",
   "metadata": {
    "tags": []
   },
   "outputs": [],
   "source": []
  },
  {
   "cell_type": "code",
   "execution_count": null,
   "id": "7b5dddeb-ea0a-4034-8891-fc3c6044272f",
   "metadata": {
    "tags": []
   },
   "outputs": [],
   "source": []
  },
  {
   "cell_type": "code",
   "execution_count": null,
   "id": "a3559052-70a6-4c9c-9311-9efd861ad18a",
   "metadata": {},
   "outputs": [],
   "source": []
  }
 ],
 "metadata": {
  "kernelspec": {
   "display_name": "Python 3 (ipykernel)",
   "language": "python",
   "name": "python3"
  },
  "language_info": {
   "codemirror_mode": {
    "name": "ipython",
    "version": 3
   },
   "file_extension": ".py",
   "mimetype": "text/x-python",
   "name": "python",
   "nbconvert_exporter": "python",
   "pygments_lexer": "ipython3",
   "version": "3.10.10"
  }
 },
 "nbformat": 4,
 "nbformat_minor": 5
}
