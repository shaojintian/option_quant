{
 "cells": [
  {
   "cell_type": "code",
   "execution_count": 1,
   "id": "400550f4-1c7b-4357-8466-f69b1779c349",
   "metadata": {},
   "outputs": [
    {
     "name": "stdout",
     "output_type": "stream",
     "text": [
      "/Library/Frameworks/Python.framework/Versions/3.10/bin/python3.10\n",
      "3.10.10\n"
     ]
    }
   ],
   "source": [
    "from platform import python_version\n",
    "import sys\n",
    "print(sys.executable)\n",
    "print(python_version())"
   ]
  },
  {
   "cell_type": "code",
   "execution_count": 2,
   "id": "18f45e6e-9c8b-484c-8643-22f41a3c4d64",
   "metadata": {
    "ExecuteTime": {
     "end_time": "2023-08-03T10:41:53.817578Z",
     "start_time": "2023-08-03T10:41:51.913Z"
    },
    "tags": []
   },
   "outputs": [],
   "source": [
    "import pandas as pd\n",
    "import numpy as np\n",
    "import jqfactor_analyzer as ja\n",
    "import numba\n",
    "import yfinance as yf\n",
    "import backtrader\n",
    "import akshare as ak"
   ]
  },
  {
   "cell_type": "code",
   "execution_count": 3,
   "id": "316f3b22-279c-418d-8e3b-0588ddbbd6c5",
   "metadata": {
    "ExecuteTime": {
     "end_time": "2023-08-03T10:46:03.882840Z",
     "start_time": "2023-08-03T10:42:16.802272Z"
    },
    "tags": []
   },
   "outputs": [
    {
     "name": "stdout",
     "output_type": "stream",
     "text": [
      "Note: you may need to restart the kernel to use updated packages.\n"
     ]
    }
   ],
   "source": [
    "pip freeze > requirements.txt"
   ]
  },
  {
   "cell_type": "code",
   "execution_count": null,
   "id": "1f75c628-828f-4059-9e3f-757f31970e22",
   "metadata": {
    "ExecuteTime": {
     "end_time": "2023-08-03T10:48:00.259054Z",
     "start_time": "2023-08-03T10:46:43.878560Z"
    },
    "tags": []
   },
   "outputs": [],
   "source": []
  },
  {
   "cell_type": "code",
   "execution_count": null,
   "id": "572d8833-b744-4ff1-835e-f86dab0a9e35",
   "metadata": {
    "tags": []
   },
   "outputs": [],
   "source": []
  },
  {
   "cell_type": "code",
   "execution_count": 4,
   "id": "38abd1f3-8eb7-42c8-97a4-234aba0c381c",
   "metadata": {
    "tags": []
   },
   "outputs": [],
   "source": [
    "#hushen 300"
   ]
  },
  {
   "cell_type": "code",
   "execution_count": null,
   "id": "ab8df130-369a-4eb7-9413-cbf846f76e45",
   "metadata": {
    "tags": []
   },
   "outputs": [],
   "source": []
  },
  {
   "cell_type": "code",
   "execution_count": null,
   "id": "ab45ff1e-c594-49d6-93ee-5cad668661e6",
   "metadata": {
    "tags": []
   },
   "outputs": [],
   "source": []
  },
  {
   "cell_type": "code",
   "execution_count": null,
   "id": "7b5dddeb-ea0a-4034-8891-fc3c6044272f",
   "metadata": {
    "tags": []
   },
   "outputs": [],
   "source": []
  },
  {
   "cell_type": "code",
   "execution_count": null,
   "id": "a3559052-70a6-4c9c-9311-9efd861ad18a",
   "metadata": {},
   "outputs": [],
   "source": []
  }
 ],
 "metadata": {
  "kernelspec": {
   "display_name": "Python 3 (ipykernel)",
   "language": "python",
   "name": "python3"
  },
  "language_info": {
   "codemirror_mode": {
    "name": "ipython",
    "version": 3
   },
   "file_extension": ".py",
   "mimetype": "text/x-python",
   "name": "python",
   "nbconvert_exporter": "python",
   "pygments_lexer": "ipython3",
   "version": "3.10.10"
  }
 },
 "nbformat": 4,
 "nbformat_minor": 5
}
