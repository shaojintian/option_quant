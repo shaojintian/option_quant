{
 "cells": [
  {
   "cell_type": "code",
   "execution_count": 1,
   "id": "400550f4-1c7b-4357-8466-f69b1779c349",
   "metadata": {},
   "outputs": [
    {
     "name": "stdout",
     "output_type": "stream",
     "text": [
      "/Library/Frameworks/Python.framework/Versions/3.10/bin/python3.10\n",
      "3.10.10\n"
     ]
    }
   ],
   "source": [
    "from platform import python_version\n",
    "import sys\n",
    "print(sys.executable)\n",
    "print(python_version())"
   ]
  },
  {
   "cell_type": "code",
   "execution_count": 2,
   "id": "18f45e6e-9c8b-484c-8643-22f41a3c4d64",
   "metadata": {
    "ExecuteTime": {
     "end_time": "2023-08-03T10:41:53.817578Z",
     "start_time": "2023-08-03T10:41:51.913Z"
    },
    "tags": []
   },
   "outputs": [],
   "source": [
    "import pandas as pd\n",
    "import numpy as np\n",
    "import jqfactor_analyzer as ja\n",
    "import numba\n",
    "import yfinance as yf\n",
    "import backtrader as bk\n",
    "import akshare as ak\n",
    "import os\n",
    "import scipy"
   ]
  },
  {
   "cell_type": "code",
   "execution_count": 3,
   "id": "0d6e3967-f067-4fda-8ee6-ba254313aa95",
   "metadata": {},
   "outputs": [
    {
     "data": {
      "text/plain": [
       "'http://127.0.0.1:7890'"
      ]
     },
     "execution_count": 3,
     "metadata": {},
     "output_type": "execute_result"
    }
   ],
   "source": [
    "os.environ.get('http_proxy')\n",
    "os.environ.get('https_proxy')"
   ]
  },
  {
   "cell_type": "code",
   "execution_count": 4,
   "id": "316f3b22-279c-418d-8e3b-0588ddbbd6c5",
   "metadata": {
    "ExecuteTime": {
     "end_time": "2023-08-03T10:46:03.882840Z",
     "start_time": "2023-08-03T10:42:16.802272Z"
    },
    "tags": []
   },
   "outputs": [
    {
     "name": "stdout",
     "output_type": "stream",
     "text": [
      "Note: you may need to restart the kernel to use updated packages.\n"
     ]
    }
   ],
   "source": [
    "#pip freeze > requirements.txt"
   ]
  },
  {
   "cell_type": "code",
   "execution_count": 5,
   "id": "1f75c628-828f-4059-9e3f-757f31970e22",
   "metadata": {
    "ExecuteTime": {
     "end_time": "2023-08-03T10:48:00.259054Z",
     "start_time": "2023-08-03T10:46:43.878560Z"
    },
    "tags": []
   },
   "outputs": [
    {
     "name": "stdout",
     "output_type": "stream",
     "text": [
      "      symbol  code\n",
      "0   NYBOT-棉花    CT\n",
      "1    LME镍3个月   NID\n",
      "2    LME铅3个月   PBD\n",
      "3    LME锡3个月   SND\n",
      "4    LME锌3个月   ZSD\n",
      "5    LME铝3个月   AHD\n",
      "6    LME铜3个月   CAD\n",
      "7    CBOT-黄豆     S\n",
      "8    CBOT-小麦     W\n",
      "9    CBOT-玉米     C\n",
      "10  CBOT-黄豆油    BO\n",
      "11  CBOT-黄豆粉    SM\n",
      "12      日本橡胶   TRB\n",
      "13    COMEX铜    HG\n",
      "14  NYMEX天然气    NG\n",
      "15   NYMEX原油    CL\n",
      "16   COMEX白银    SI\n",
      "17   COMEX黄金    GC\n",
      "18   CME-瘦肉猪   LHC\n",
      "19     布伦特原油   OIL\n",
      "20       伦敦金   XAU\n",
      "21       伦敦银   XAG\n",
      "22      伦敦铂金   XPT\n",
      "23      伦敦钯金   XPD\n",
      "24       马棕油  FCPO\n",
      "25     欧洲碳排放   EUA\n"
     ]
    }
   ],
   "source": [
    "#data\n",
    "futures_hq_subscribe_exchange_symbol_df = ak.futures_hq_subscribe_exchange_symbol()\n",
    "print(futures_hq_subscribe_exchange_symbol_df)\n"
   ]
  },
  {
   "cell_type": "code",
   "execution_count": 6,
   "id": "572d8833-b744-4ff1-835e-f86dab0a9e35",
   "metadata": {
    "tags": []
   },
   "outputs": [
    {
     "data": {
      "text/plain": [
       "'\\n布伦特原油   OIL         SC\\nNYMEX天然气    NG       LPG\\n伦敦金   XAU             \\n伦敦银   XAG\\nLME镍3个月   NID\\n2    LME铅3个月   PBD\\n3    LME锡3个月   SND\\n4    LME锌3个月   ZSD\\n5    LME铝3个月   AHD\\n6    LME铜3个月   CAD\\n'"
      ]
     },
     "execution_count": 6,
     "metadata": {},
     "output_type": "execute_result"
    }
   ],
   "source": [
    "'''\n",
    "布伦特原油   OIL         SC\n",
    "NYMEX天然气    NG       LPG\n",
    "伦敦金   XAU             \n",
    "伦敦银   XAG\n",
    "LME镍3个月   NID\n",
    "2    LME铅3个月   PBD\n",
    "3    LME锡3个月   SND\n",
    "4    LME锌3个月   ZSD\n",
    "5    LME铝3个月   AHD\n",
    "6    LME铜3个月   CAD\n",
    "'''"
   ]
  },
  {
   "cell_type": "code",
   "execution_count": 33,
   "id": "38abd1f3-8eb7-42c8-97a4-234aba0c381c",
   "metadata": {
    "tags": []
   },
   "outputs": [
    {
     "ename": "KeyError",
     "evalue": "'date'",
     "output_type": "error",
     "traceback": [
      "\u001b[0;31m---------------------------------------------------------------------------\u001b[0m",
      "\u001b[0;31mKeyError\u001b[0m                                  Traceback (most recent call last)",
      "File \u001b[0;32m/Library/Frameworks/Python.framework/Versions/3.10/lib/python3.10/site-packages/pandas/core/indexes/base.py:3652\u001b[0m, in \u001b[0;36mIndex.get_loc\u001b[0;34m(self, key)\u001b[0m\n\u001b[1;32m   3651\u001b[0m \u001b[38;5;28;01mtry\u001b[39;00m:\n\u001b[0;32m-> 3652\u001b[0m     \u001b[38;5;28;01mreturn\u001b[39;00m \u001b[38;5;28;43mself\u001b[39;49m\u001b[38;5;241;43m.\u001b[39;49m\u001b[43m_engine\u001b[49m\u001b[38;5;241;43m.\u001b[39;49m\u001b[43mget_loc\u001b[49m\u001b[43m(\u001b[49m\u001b[43mcasted_key\u001b[49m\u001b[43m)\u001b[49m\n\u001b[1;32m   3653\u001b[0m \u001b[38;5;28;01mexcept\u001b[39;00m \u001b[38;5;167;01mKeyError\u001b[39;00m \u001b[38;5;28;01mas\u001b[39;00m err:\n",
      "File \u001b[0;32m/Library/Frameworks/Python.framework/Versions/3.10/lib/python3.10/site-packages/pandas/_libs/index.pyx:147\u001b[0m, in \u001b[0;36mpandas._libs.index.IndexEngine.get_loc\u001b[0;34m()\u001b[0m\n",
      "File \u001b[0;32m/Library/Frameworks/Python.framework/Versions/3.10/lib/python3.10/site-packages/pandas/_libs/index.pyx:176\u001b[0m, in \u001b[0;36mpandas._libs.index.IndexEngine.get_loc\u001b[0;34m()\u001b[0m\n",
      "File \u001b[0;32mpandas/_libs/hashtable_class_helper.pxi:7080\u001b[0m, in \u001b[0;36mpandas._libs.hashtable.PyObjectHashTable.get_item\u001b[0;34m()\u001b[0m\n",
      "File \u001b[0;32mpandas/_libs/hashtable_class_helper.pxi:7088\u001b[0m, in \u001b[0;36mpandas._libs.hashtable.PyObjectHashTable.get_item\u001b[0;34m()\u001b[0m\n",
      "\u001b[0;31mKeyError\u001b[0m: 'date'",
      "\nThe above exception was the direct cause of the following exception:\n",
      "\u001b[0;31mKeyError\u001b[0m                                  Traceback (most recent call last)",
      "Cell \u001b[0;32mIn[33], line 4\u001b[0m\n\u001b[1;32m      2\u001b[0m futures_foreign_hist_df \u001b[38;5;241m=\u001b[39m ak\u001b[38;5;241m.\u001b[39mfutures_foreign_hist(symbol\u001b[38;5;241m=\u001b[39m\u001b[38;5;124m\"\u001b[39m\u001b[38;5;124mOIL\u001b[39m\u001b[38;5;124m\"\u001b[39m)\n\u001b[1;32m      3\u001b[0m futures_foreign_hist_df \u001b[38;5;241m=\u001b[39m futures_foreign_hist_df[futures_foreign_hist_df\u001b[38;5;241m.\u001b[39mdate \u001b[38;5;241m>\u001b[39m\u001b[38;5;241m=\u001b[39m \u001b[38;5;124m'\u001b[39m\u001b[38;5;124m2023-03-01\u001b[39m\u001b[38;5;124m'\u001b[39m]\n\u001b[0;32m----> 4\u001b[0m date_range \u001b[38;5;241m=\u001b[39m pd\u001b[38;5;241m.\u001b[39mdate_range(start\u001b[38;5;241m=\u001b[39m\u001b[43mfutures_zh_daily_sina_df\u001b[49m\u001b[43m[\u001b[49m\u001b[38;5;124;43m\"\u001b[39;49m\u001b[38;5;124;43mdate\u001b[39;49m\u001b[38;5;124;43m\"\u001b[39;49m\u001b[43m]\u001b[49m\u001b[38;5;241m.\u001b[39mmin(), end\u001b[38;5;241m=\u001b[39mfutures_zh_daily_sina_df[\u001b[38;5;124m\"\u001b[39m\u001b[38;5;124mdate\u001b[39m\u001b[38;5;124m\"\u001b[39m]\u001b[38;5;241m.\u001b[39mmax(), freq\u001b[38;5;241m=\u001b[39m\u001b[38;5;124m\"\u001b[39m\u001b[38;5;124mD\u001b[39m\u001b[38;5;124m\"\u001b[39m)  \u001b[38;5;66;03m# freq=\"D\"表示按天，可以按分钟，月，季度，年等\u001b[39;00m\n\u001b[1;32m      5\u001b[0m futures_zh_daily_sina_df[\u001b[38;5;124m'\u001b[39m\u001b[38;5;124mdate\u001b[39m\u001b[38;5;124m'\u001b[39m] \u001b[38;5;241m=\u001b[39m pd\u001b[38;5;241m.\u001b[39mto_datetime(futures_zh_daily_sina_df[\u001b[38;5;124m'\u001b[39m\u001b[38;5;124mdate\u001b[39m\u001b[38;5;124m'\u001b[39m])\n\u001b[1;32m      6\u001b[0m futures_zh_daily_sina_df \u001b[38;5;241m=\u001b[39m futures_zh_daily_sina_df\u001b[38;5;241m.\u001b[39mset_index(\u001b[38;5;124m\"\u001b[39m\u001b[38;5;124mdate\u001b[39m\u001b[38;5;124m\"\u001b[39m)\n",
      "File \u001b[0;32m/Library/Frameworks/Python.framework/Versions/3.10/lib/python3.10/site-packages/pandas/core/frame.py:3760\u001b[0m, in \u001b[0;36mDataFrame.__getitem__\u001b[0;34m(self, key)\u001b[0m\n\u001b[1;32m   3758\u001b[0m \u001b[38;5;28;01mif\u001b[39;00m \u001b[38;5;28mself\u001b[39m\u001b[38;5;241m.\u001b[39mcolumns\u001b[38;5;241m.\u001b[39mnlevels \u001b[38;5;241m>\u001b[39m \u001b[38;5;241m1\u001b[39m:\n\u001b[1;32m   3759\u001b[0m     \u001b[38;5;28;01mreturn\u001b[39;00m \u001b[38;5;28mself\u001b[39m\u001b[38;5;241m.\u001b[39m_getitem_multilevel(key)\n\u001b[0;32m-> 3760\u001b[0m indexer \u001b[38;5;241m=\u001b[39m \u001b[38;5;28;43mself\u001b[39;49m\u001b[38;5;241;43m.\u001b[39;49m\u001b[43mcolumns\u001b[49m\u001b[38;5;241;43m.\u001b[39;49m\u001b[43mget_loc\u001b[49m\u001b[43m(\u001b[49m\u001b[43mkey\u001b[49m\u001b[43m)\u001b[49m\n\u001b[1;32m   3761\u001b[0m \u001b[38;5;28;01mif\u001b[39;00m is_integer(indexer):\n\u001b[1;32m   3762\u001b[0m     indexer \u001b[38;5;241m=\u001b[39m [indexer]\n",
      "File \u001b[0;32m/Library/Frameworks/Python.framework/Versions/3.10/lib/python3.10/site-packages/pandas/core/indexes/base.py:3654\u001b[0m, in \u001b[0;36mIndex.get_loc\u001b[0;34m(self, key)\u001b[0m\n\u001b[1;32m   3652\u001b[0m     \u001b[38;5;28;01mreturn\u001b[39;00m \u001b[38;5;28mself\u001b[39m\u001b[38;5;241m.\u001b[39m_engine\u001b[38;5;241m.\u001b[39mget_loc(casted_key)\n\u001b[1;32m   3653\u001b[0m \u001b[38;5;28;01mexcept\u001b[39;00m \u001b[38;5;167;01mKeyError\u001b[39;00m \u001b[38;5;28;01mas\u001b[39;00m err:\n\u001b[0;32m-> 3654\u001b[0m     \u001b[38;5;28;01mraise\u001b[39;00m \u001b[38;5;167;01mKeyError\u001b[39;00m(key) \u001b[38;5;28;01mfrom\u001b[39;00m \u001b[38;5;21;01merr\u001b[39;00m\n\u001b[1;32m   3655\u001b[0m \u001b[38;5;28;01mexcept\u001b[39;00m \u001b[38;5;167;01mTypeError\u001b[39;00m:\n\u001b[1;32m   3656\u001b[0m     \u001b[38;5;66;03m# If we have a listlike key, _check_indexing_error will raise\u001b[39;00m\n\u001b[1;32m   3657\u001b[0m     \u001b[38;5;66;03m#  InvalidIndexError. Otherwise we fall through and re-raise\u001b[39;00m\n\u001b[1;32m   3658\u001b[0m     \u001b[38;5;66;03m#  the TypeError.\u001b[39;00m\n\u001b[1;32m   3659\u001b[0m     \u001b[38;5;28mself\u001b[39m\u001b[38;5;241m.\u001b[39m_check_indexing_error(key)\n",
      "\u001b[0;31mKeyError\u001b[0m: 'date'"
     ]
    }
   ],
   "source": [
    "#corr ayasis\n",
    "futures_foreign_hist_df = ak.futures_foreign_hist(symbol=\"OIL\")\n",
    "futures_foreign_hist_df = futures_foreign_hist_df[futures_foreign_hist_df.date >= '2023-03-01']\n",
    "date_range = pd.date_range(start=futures_foreign_hist_df[\"date\"].min(), end=futures_foreign_hist_df[\"date\"].max(), freq=\"D\")  # freq=\"D\"表示按天，可以按分钟，月，季度，年等\n",
    "futures_zh_daily_sina_df['date'] = pd.to_datetime(futures_foreign_hist_df['date'])\n",
    "futures_foreign_hist_df = futures_foreign_hist_df.set_index(\"date\")\n",
    "futures_zh_daily_sina_df = futures_foreign_hist_df.resample(\"D\").ffill()\n",
    "print(futures_foreign_hist_df['close'])\n",
    "print(futures_foreign_hist_df)"
   ]
  },
  {
   "cell_type": "code",
   "execution_count": 8,
   "id": "8bcd13c8-3d16-42d9-9e35-ac1501ab0f3d",
   "metadata": {},
   "outputs": [],
   "source": [
    "#ak.futures_display_main_sina()"
   ]
  },
  {
   "cell_type": "code",
   "execution_count": null,
   "id": "ce793d3e-5cf1-4d10-a6a5-aa845ceaf0cc",
   "metadata": {},
   "outputs": [],
   "source": []
  },
  {
   "cell_type": "code",
   "execution_count": 32,
   "id": "5400b9e2-0573-4ea3-9780-b9f6994c4917",
   "metadata": {},
   "outputs": [
    {
     "name": "stdout",
     "output_type": "stream",
     "text": [
      "             open   high    low  close  volume   hold  settle\n",
      "date                                                         \n",
      "2023-03-01  551.8  559.8  551.7  557.6  109880  30820   555.8\n",
      "2023-03-02  552.7  562.0  549.0  559.0  135838  30537   554.4\n",
      "2023-03-03  562.0  569.6  561.0  568.3   99499  30338   565.7\n",
      "2023-03-04  562.0  569.6  561.0  568.3   99499  30338   565.7\n",
      "2023-03-05  562.0  569.6  561.0  568.3   99499  30338   565.7\n",
      "...           ...    ...    ...    ...     ...    ...     ...\n",
      "2023-08-06  612.0  624.2  610.5  622.1  159984  35232   616.9\n",
      "2023-08-07  623.2  632.2  620.1  628.7  146552  37540   626.2\n",
      "2023-08-08  625.8  628.5  621.1  621.4  121615  34352   625.1\n",
      "2023-08-09  614.6  633.8  614.6  631.3  155055  36001   624.2\n",
      "2023-08-10  636.6  642.8  633.2  640.2  151652  37525   637.7\n",
      "\n",
      "[163 rows x 7 columns]\n",
      "116\n"
     ]
    },
    {
     "data": {
      "text/plain": [
       "163"
      ]
     },
     "execution_count": 32,
     "metadata": {},
     "output_type": "execute_result"
    }
   ],
   "source": [
    "futures_zh_daily_sina_df = ak.futures_zh_daily_sina(symbol=\"SC0\")\n",
    "futures_zh_daily_sina_df = futures_zh_daily_sina_df[futures_zh_daily_sina_df.date>='2023-03-01']\n",
    "date_range = pd.date_range(start=futures_zh_daily_sina_df[\"date\"].min(), end=futures_zh_daily_sina_df[\"date\"].max(), freq=\"D\")  # freq=\"D\"表示按天，可以按分钟，月，季度，年等\n",
    "futures_zh_daily_sina_df['date'] = pd.to_datetime(futures_zh_daily_sina_df['date'])\n",
    "futures_zh_daily_sina_df = futures_zh_daily_sina_df.set_index(\"date\")\n",
    "futures_zh_daily_sina_df = futures_zh_daily_sina_df.resample(\"D\").ffill()\n",
    "\n",
    "print(futures_zh_daily_sina_df)\n",
    "print(len(futures_foreign_hist_df))\n",
    "len(futures_zh_daily_sina_df)"
   ]
  },
  {
   "cell_type": "code",
   "execution_count": 16,
   "id": "15871a7d-ec56-4e69-bc31-b295b9e10a69",
   "metadata": {},
   "outputs": [
    {
     "data": {
      "text/plain": [
       "Index([1196, 1197, 1198, 1199, 1200, 1201, 1202, 1203, 1204, 1205,\n",
       "       ...\n",
       "       1297, 1298, 1299, 1300, 1301, 1302, 1303, 1304, 1305, 1306],\n",
       "      dtype='int64', length=111)"
      ]
     },
     "execution_count": 16,
     "metadata": {},
     "output_type": "execute_result"
    }
   ],
   "source": []
  },
  {
   "cell_type": "code",
   "execution_count": 10,
   "id": "ab8df130-369a-4eb7-9413-cbf846f76e45",
   "metadata": {
    "tags": []
   },
   "outputs": [
    {
     "ename": "ValueError",
     "evalue": "x and y must have the same length.",
     "output_type": "error",
     "traceback": [
      "\u001b[0;31m---------------------------------------------------------------------------\u001b[0m",
      "\u001b[0;31mValueError\u001b[0m                                Traceback (most recent call last)",
      "\u001b[0;32m/var/folders/rz/3svljnys3slcc2vxdvmj0kx00000gn/T/ipykernel_9258/2249451885.py\u001b[0m in \u001b[0;36m?\u001b[0;34m()\u001b[0m\n\u001b[1;32m      1\u001b[0m \u001b[0;31m# 计算Pearson相关系数\u001b[0m\u001b[0;34m\u001b[0m\u001b[0;34m\u001b[0m\u001b[0m\n\u001b[0;32m----> 2\u001b[0;31m \u001b[0mpearson_corr\u001b[0m\u001b[0;34m,\u001b[0m \u001b[0m_\u001b[0m \u001b[0;34m=\u001b[0m \u001b[0mscipy\u001b[0m\u001b[0;34m.\u001b[0m\u001b[0mstats\u001b[0m\u001b[0;34m.\u001b[0m\u001b[0mpearsonr\u001b[0m\u001b[0;34m(\u001b[0m\u001b[0mfutures_zh_daily_sina_df\u001b[0m\u001b[0;34m[\u001b[0m\u001b[0;34m'close'\u001b[0m\u001b[0;34m]\u001b[0m\u001b[0;34m,\u001b[0m \u001b[0mfutures_foreign_hist_df\u001b[0m\u001b[0;34m[\u001b[0m\u001b[0;34m'close'\u001b[0m\u001b[0;34m]\u001b[0m\u001b[0;34m)\u001b[0m\u001b[0;34m\u001b[0m\u001b[0;34m\u001b[0m\u001b[0m\n\u001b[0m\u001b[1;32m      3\u001b[0m \u001b[0mprint\u001b[0m\u001b[0;34m(\u001b[0m\u001b[0;34m\"Pearson Correlation:\"\u001b[0m\u001b[0;34m,\u001b[0m \u001b[0mpearson_corr\u001b[0m\u001b[0;34m)\u001b[0m\u001b[0;34m\u001b[0m\u001b[0;34m\u001b[0m\u001b[0m\n",
      "\u001b[0;32m/Library/Frameworks/Python.framework/Versions/3.10/lib/python3.10/site-packages/scipy/stats/_stats_py.py\u001b[0m in \u001b[0;36m?\u001b[0;34m(x, y, alternative, method)\u001b[0m\n\u001b[1;32m   4761\u001b[0m \u001b[0;34m\u001b[0m\u001b[0m\n\u001b[1;32m   4762\u001b[0m     \"\"\"\n\u001b[1;32m   4763\u001b[0m     \u001b[0mn\u001b[0m \u001b[0;34m=\u001b[0m \u001b[0mlen\u001b[0m\u001b[0;34m(\u001b[0m\u001b[0mx\u001b[0m\u001b[0;34m)\u001b[0m\u001b[0;34m\u001b[0m\u001b[0;34m\u001b[0m\u001b[0m\n\u001b[1;32m   4764\u001b[0m     \u001b[0;32mif\u001b[0m \u001b[0mn\u001b[0m \u001b[0;34m!=\u001b[0m \u001b[0mlen\u001b[0m\u001b[0;34m(\u001b[0m\u001b[0my\u001b[0m\u001b[0;34m)\u001b[0m\u001b[0;34m:\u001b[0m\u001b[0;34m\u001b[0m\u001b[0;34m\u001b[0m\u001b[0m\n\u001b[0;32m-> 4765\u001b[0;31m         \u001b[0;32mraise\u001b[0m \u001b[0mValueError\u001b[0m\u001b[0;34m(\u001b[0m\u001b[0;34m'x and y must have the same length.'\u001b[0m\u001b[0;34m)\u001b[0m\u001b[0;34m\u001b[0m\u001b[0;34m\u001b[0m\u001b[0m\n\u001b[0m\u001b[1;32m   4766\u001b[0m \u001b[0;34m\u001b[0m\u001b[0m\n\u001b[1;32m   4767\u001b[0m     \u001b[0;32mif\u001b[0m \u001b[0mn\u001b[0m \u001b[0;34m<\u001b[0m \u001b[0;36m2\u001b[0m\u001b[0;34m:\u001b[0m\u001b[0;34m\u001b[0m\u001b[0;34m\u001b[0m\u001b[0m\n\u001b[1;32m   4768\u001b[0m         \u001b[0;32mraise\u001b[0m \u001b[0mValueError\u001b[0m\u001b[0;34m(\u001b[0m\u001b[0;34m'x and y must have length at least 2.'\u001b[0m\u001b[0;34m)\u001b[0m\u001b[0;34m\u001b[0m\u001b[0;34m\u001b[0m\u001b[0m\n",
      "\u001b[0;31mValueError\u001b[0m: x and y must have the same length."
     ]
    }
   ],
   "source": [
    "# 计算Pearson相关系数\n",
    "pearson_corr, _ = scipy.stats.pearsonr(futures_zh_daily_sina_df['close'], futures_foreign_hist_df['close'])\n",
    "print(\"Pearson Correlation:\", pearson_corr)"
   ]
  },
  {
   "cell_type": "code",
   "execution_count": null,
   "id": "ab45ff1e-c594-49d6-93ee-5cad668661e6",
   "metadata": {
    "tags": []
   },
   "outputs": [],
   "source": []
  },
  {
   "cell_type": "code",
   "execution_count": null,
   "id": "7b5dddeb-ea0a-4034-8891-fc3c6044272f",
   "metadata": {
    "tags": []
   },
   "outputs": [],
   "source": []
  },
  {
   "cell_type": "code",
   "execution_count": null,
   "id": "a3559052-70a6-4c9c-9311-9efd861ad18a",
   "metadata": {},
   "outputs": [],
   "source": []
  }
 ],
 "metadata": {
  "kernelspec": {
   "display_name": "Python 3 (ipykernel)",
   "language": "python",
   "name": "python3"
  },
  "language_info": {
   "codemirror_mode": {
    "name": "ipython",
    "version": 3
   },
   "file_extension": ".py",
   "mimetype": "text/x-python",
   "name": "python",
   "nbconvert_exporter": "python",
   "pygments_lexer": "ipython3",
   "version": "3.10.10"
  }
 },
 "nbformat": 4,
 "nbformat_minor": 5
}
