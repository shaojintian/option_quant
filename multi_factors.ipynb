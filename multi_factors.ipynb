{
 "cells": [
  {
   "cell_type": "code",
   "execution_count": 2,
   "id": "18f45e6e-9c8b-484c-8643-22f41a3c4d64",
   "metadata": {
    "tags": [],
    "ExecuteTime": {
     "end_time": "2023-08-03T10:41:53.817578Z",
     "start_time": "2023-08-03T10:41:51.913Z"
    }
   },
   "outputs": [
    {
     "name": "stdout",
     "output_type": "stream",
     "text": [
      "/opt/homebrew/anaconda3/bin/python\n",
      "3.11.3\n"
     ]
    }
   ],
   "source": [
    "from platform import python_version\n",
    "import sys\n",
    "import pandas as pd\n",
    "import numpy as np\n",
    "import jqdatasdk as jq\n",
    "import jqfactor_analyzer as ja\n",
    "import numba\n",
    "import yfinance as yf\n",
    "print(sys.executable)\n",
    "print(python_version())"
   ]
  },
  {
   "cell_type": "code",
   "execution_count": 3,
   "id": "316f3b22-279c-418d-8e3b-0588ddbbd6c5",
   "metadata": {
    "tags": [],
    "ExecuteTime": {
     "end_time": "2023-08-03T10:46:03.882840Z",
     "start_time": "2023-08-03T10:42:16.802272Z"
    }
   },
   "outputs": [
    {
     "ename": "TTransportException",
     "evalue": "TTransportException(type=1, message=\"Could not connect to ('39.107.190.114', 7000)\")",
     "output_type": "error",
     "traceback": [
      "\u001B[0;31m---------------------------------------------------------------------------\u001B[0m",
      "\u001B[0;31mTimeoutError\u001B[0m                              Traceback (most recent call last)",
      "File \u001B[0;32m/opt/homebrew/anaconda3/lib/python3.11/site-packages/thriftpy2/transport/socket.py:98\u001B[0m, in \u001B[0;36mTSocket.open\u001B[0;34m(self)\u001B[0m\n\u001B[1;32m     96\u001B[0m     \u001B[38;5;28mself\u001B[39m\u001B[38;5;241m.\u001B[39msock\u001B[38;5;241m.\u001B[39msettimeout(\u001B[38;5;28mself\u001B[39m\u001B[38;5;241m.\u001B[39mconnect_timeout)\n\u001B[0;32m---> 98\u001B[0m \u001B[38;5;28mself\u001B[39m\u001B[38;5;241m.\u001B[39msock\u001B[38;5;241m.\u001B[39mconnect(addr)\n\u001B[1;32m    100\u001B[0m \u001B[38;5;28;01mif\u001B[39;00m \u001B[38;5;28mself\u001B[39m\u001B[38;5;241m.\u001B[39msocket_timeout:\n",
      "\u001B[0;31mTimeoutError\u001B[0m: [Errno 60] Operation timed out",
      "\nDuring handling of the above exception, another exception occurred:\n",
      "\u001B[0;31mTTransportException\u001B[0m                       Traceback (most recent call last)",
      "Cell \u001B[0;32mIn[3], line 1\u001B[0m\n\u001B[0;32m----> 1\u001B[0m jq\u001B[38;5;241m.\u001B[39mauth(\u001B[38;5;124m'\u001B[39m\u001B[38;5;124m15340861099\u001B[39m\u001B[38;5;124m'\u001B[39m,\u001B[38;5;124m'\u001B[39m\u001B[38;5;124mShaojintian316!\u001B[39m\u001B[38;5;124m'\u001B[39m)\n\u001B[1;32m      2\u001B[0m jq\u001B[38;5;241m.\u001B[39mget_account_info()\n",
      "File \u001B[0;32m/opt/homebrew/anaconda3/lib/python3.11/site-packages/jqdatasdk/__init__.py:15\u001B[0m, in \u001B[0;36mauth\u001B[0;34m(username, password, host, port)\u001B[0m\n\u001B[1;32m     13\u001B[0m \u001B[38;5;28;01mdef\u001B[39;00m \u001B[38;5;21mauth\u001B[39m(username, password, host\u001B[38;5;241m=\u001B[39m\u001B[38;5;28;01mNone\u001B[39;00m, port\u001B[38;5;241m=\u001B[39m\u001B[38;5;28;01mNone\u001B[39;00m):\n\u001B[1;32m     14\u001B[0m \u001B[38;5;250m    \u001B[39m\u001B[38;5;124;03m\"\"\"账号认证\"\"\"\u001B[39;00m\n\u001B[0;32m---> 15\u001B[0m     JQDataClient\u001B[38;5;241m.\u001B[39mset_auth_params(\n\u001B[1;32m     16\u001B[0m         host\u001B[38;5;241m=\u001B[39mhost,\n\u001B[1;32m     17\u001B[0m         port\u001B[38;5;241m=\u001B[39mport,\n\u001B[1;32m     18\u001B[0m         username\u001B[38;5;241m=\u001B[39musername,\n\u001B[1;32m     19\u001B[0m         password\u001B[38;5;241m=\u001B[39mpassword,\n\u001B[1;32m     20\u001B[0m     )\n",
      "File \u001B[0;32m/opt/homebrew/anaconda3/lib/python3.11/site-packages/jqdatasdk/client.py:164\u001B[0m, in \u001B[0;36mJQDataClient.set_auth_params\u001B[0;34m(cls, **params)\u001B[0m\n\u001B[1;32m    162\u001B[0m     \u001B[38;5;28mcls\u001B[39m\u001B[38;5;241m.\u001B[39m_threading_local\u001B[38;5;241m.\u001B[39m_instance \u001B[38;5;241m=\u001B[39m \u001B[38;5;28;01mNone\u001B[39;00m\n\u001B[1;32m    163\u001B[0m \u001B[38;5;28mcls\u001B[39m\u001B[38;5;241m.\u001B[39m_auth_params \u001B[38;5;241m=\u001B[39m params\n\u001B[0;32m--> 164\u001B[0m \u001B[38;5;28mcls\u001B[39m\u001B[38;5;241m.\u001B[39minstance()\u001B[38;5;241m.\u001B[39mensure_auth()\n",
      "File \u001B[0;32m/opt/homebrew/anaconda3/lib/python3.11/site-packages/jqdatasdk/client.py:207\u001B[0m, in \u001B[0;36mJQDataClient.ensure_auth\u001B[0;34m(self)\u001B[0m\n\u001B[1;32m    205\u001B[0m \u001B[38;5;28;01melse\u001B[39;00m:\n\u001B[1;32m    206\u001B[0m     \u001B[38;5;28;01mif\u001B[39;00m error \u001B[38;5;129;01mand\u001B[39;00m \u001B[38;5;129;01mnot\u001B[39;00m response:\n\u001B[0;32m--> 207\u001B[0m         \u001B[38;5;28;01mraise\u001B[39;00m error\n\u001B[1;32m    208\u001B[0m \u001B[38;5;28;01mif\u001B[39;00m response \u001B[38;5;129;01mand\u001B[39;00m response\u001B[38;5;241m.\u001B[39merror:\n\u001B[1;32m    209\u001B[0m     \u001B[38;5;28mself\u001B[39m\u001B[38;5;241m.\u001B[39mdata_api_url \u001B[38;5;241m=\u001B[39m response\u001B[38;5;241m.\u001B[39merror\n",
      "File \u001B[0;32m/opt/homebrew/anaconda3/lib/python3.11/site-packages/jqdatasdk/client.py:187\u001B[0m, in \u001B[0;36mJQDataClient.ensure_auth\u001B[0;34m(self)\u001B[0m\n\u001B[1;32m    185\u001B[0m \u001B[38;5;28;01mfor\u001B[39;00m _ \u001B[38;5;129;01min\u001B[39;00m \u001B[38;5;28mrange\u001B[39m(\u001B[38;5;28mself\u001B[39m\u001B[38;5;241m.\u001B[39mrequest_attempt_count):\n\u001B[1;32m    186\u001B[0m     \u001B[38;5;28;01mtry\u001B[39;00m:\n\u001B[0;32m--> 187\u001B[0m         \u001B[38;5;28mself\u001B[39m\u001B[38;5;241m.\u001B[39m_create_client()\n\u001B[1;32m    188\u001B[0m         response \u001B[38;5;241m=\u001B[39m \u001B[38;5;28mself\u001B[39m\u001B[38;5;241m.\u001B[39mclient\u001B[38;5;241m.\u001B[39mauth(\n\u001B[1;32m    189\u001B[0m             \u001B[38;5;28mself\u001B[39m\u001B[38;5;241m.\u001B[39musername,\n\u001B[1;32m    190\u001B[0m             \u001B[38;5;28mself\u001B[39m\u001B[38;5;241m.\u001B[39mpassword,\n\u001B[0;32m   (...)\u001B[0m\n\u001B[1;32m    194\u001B[0m             python_version,\n\u001B[1;32m    195\u001B[0m         )\n\u001B[1;32m    196\u001B[0m         \u001B[38;5;28;01mbreak\u001B[39;00m\n",
      "File \u001B[0;32m/opt/homebrew/anaconda3/lib/python3.11/site-packages/jqdatasdk/client.py:167\u001B[0m, in \u001B[0;36mJQDataClient._create_client\u001B[0;34m(self)\u001B[0m\n\u001B[1;32m    166\u001B[0m \u001B[38;5;28;01mdef\u001B[39;00m \u001B[38;5;21m_create_client\u001B[39m(\u001B[38;5;28mself\u001B[39m):\n\u001B[0;32m--> 167\u001B[0m     \u001B[38;5;28mself\u001B[39m\u001B[38;5;241m.\u001B[39mclient \u001B[38;5;241m=\u001B[39m make_client(\n\u001B[1;32m    168\u001B[0m         thrift\u001B[38;5;241m.\u001B[39mJqDataService,\n\u001B[1;32m    169\u001B[0m         \u001B[38;5;28mself\u001B[39m\u001B[38;5;241m.\u001B[39mhost,\n\u001B[1;32m    170\u001B[0m         \u001B[38;5;28mself\u001B[39m\u001B[38;5;241m.\u001B[39mport,\n\u001B[1;32m    171\u001B[0m         timeout\u001B[38;5;241m=\u001B[39m(\u001B[38;5;28mself\u001B[39m\u001B[38;5;241m.\u001B[39mrequest_timeout \u001B[38;5;241m*\u001B[39m \u001B[38;5;241m1000\u001B[39m)\n\u001B[1;32m    172\u001B[0m     )\n\u001B[1;32m    173\u001B[0m     \u001B[38;5;28;01mreturn\u001B[39;00m \u001B[38;5;28mself\u001B[39m\u001B[38;5;241m.\u001B[39mclient\n",
      "File \u001B[0;32m/opt/homebrew/anaconda3/lib/python3.11/site-packages/thriftpy2/rpc.py:58\u001B[0m, in \u001B[0;36mmake_client\u001B[0;34m(service, host, port, unix_socket, proto_factory, trans_factory, timeout, cafile, ssl_context, certfile, keyfile, url, socket_family)\u001B[0m\n\u001B[1;32m     56\u001B[0m transport \u001B[38;5;241m=\u001B[39m trans_factory\u001B[38;5;241m.\u001B[39mget_transport(socket)\n\u001B[1;32m     57\u001B[0m protocol \u001B[38;5;241m=\u001B[39m proto_factory\u001B[38;5;241m.\u001B[39mget_protocol(transport)\n\u001B[0;32m---> 58\u001B[0m transport\u001B[38;5;241m.\u001B[39mopen()\n\u001B[1;32m     59\u001B[0m \u001B[38;5;28;01mreturn\u001B[39;00m TClient(service, protocol)\n",
      "File \u001B[0;32m/opt/homebrew/anaconda3/lib/python3.11/site-packages/thriftpy2/transport/buffered/cybuffered.pyx:34\u001B[0m, in \u001B[0;36mthriftpy2.transport.buffered.cybuffered.TCyBufferedTransport.open\u001B[0;34m()\u001B[0m\n",
      "File \u001B[0;32m/opt/homebrew/anaconda3/lib/python3.11/site-packages/thriftpy2/transport/socket.py:105\u001B[0m, in \u001B[0;36mTSocket.open\u001B[0;34m(self)\u001B[0m\n\u001B[1;32m    103\u001B[0m \u001B[38;5;28;01mexcept\u001B[39;00m (socket\u001B[38;5;241m.\u001B[39merror, \u001B[38;5;167;01mOSError\u001B[39;00m):\n\u001B[1;32m    104\u001B[0m     \u001B[38;5;28mself\u001B[39m\u001B[38;5;241m.\u001B[39mclose()\n\u001B[0;32m--> 105\u001B[0m     \u001B[38;5;28;01mraise\u001B[39;00m TTransportException(\n\u001B[1;32m    106\u001B[0m         \u001B[38;5;28mtype\u001B[39m\u001B[38;5;241m=\u001B[39mTTransportException\u001B[38;5;241m.\u001B[39mNOT_OPEN,\n\u001B[1;32m    107\u001B[0m         message\u001B[38;5;241m=\u001B[39m\u001B[38;5;124m\"\u001B[39m\u001B[38;5;124mCould not connect to \u001B[39m\u001B[38;5;132;01m%s\u001B[39;00m\u001B[38;5;124m\"\u001B[39m \u001B[38;5;241m%\u001B[39m \u001B[38;5;28mstr\u001B[39m(addr))\n",
      "\u001B[0;31mTTransportException\u001B[0m: TTransportException(type=1, message=\"Could not connect to ('39.107.190.114', 7000)\")"
     ]
    }
   ],
   "source": [
    "jq.auth('15340861099','Shaojintian316!')\n",
    "jq.get_account_info()"
   ]
  },
  {
   "cell_type": "code",
   "execution_count": 4,
   "id": "1f75c628-828f-4059-9e3f-757f31970e22",
   "metadata": {
    "tags": [],
    "ExecuteTime": {
     "end_time": "2023-08-03T10:48:00.259054Z",
     "start_time": "2023-08-03T10:46:43.878560Z"
    }
   },
   "outputs": [
    {
     "name": "stdout",
     "output_type": "stream",
     "text": [
      "auth success \n"
     ]
    },
    {
     "ename": "Exception",
     "evalue": "您的账号权限仅能获取2022-04-25至2023-05-02的数据，请调整时间参数后重试。如需更长时间的数据范围，可联系运营咨询采购",
     "output_type": "error",
     "traceback": [
      "\u001B[0;31m---------------------------------------------------------------------------\u001B[0m",
      "\u001B[0;31mException\u001B[0m                                 Traceback (most recent call last)",
      "Cell \u001B[0;32mIn[4], line 7\u001B[0m\n\u001B[1;32m      4\u001B[0m factor_data \u001B[38;5;241m=\u001B[39m VOL5\n\u001B[1;32m      6\u001B[0m \u001B[38;5;66;03m# 对因子进行分析\u001B[39;00m\n\u001B[0;32m----> 7\u001B[0m far \u001B[38;5;241m=\u001B[39m ja\u001B[38;5;241m.\u001B[39manalyze_factor(\n\u001B[1;32m      8\u001B[0m     factor_data,  \u001B[38;5;66;03m# factor_data 为因子值的 pandas.DataFrame\u001B[39;00m\n\u001B[1;32m      9\u001B[0m     quantiles\u001B[38;5;241m=\u001B[39m\u001B[38;5;241m10\u001B[39m,\n\u001B[1;32m     10\u001B[0m     periods\u001B[38;5;241m=\u001B[39m(\u001B[38;5;241m1\u001B[39m, \u001B[38;5;241m10\u001B[39m),\n\u001B[1;32m     11\u001B[0m     industry\u001B[38;5;241m=\u001B[39m\u001B[38;5;124m'\u001B[39m\u001B[38;5;124mjq_l1\u001B[39m\u001B[38;5;124m'\u001B[39m,\n\u001B[1;32m     12\u001B[0m     weight_method\u001B[38;5;241m=\u001B[39m\u001B[38;5;124m'\u001B[39m\u001B[38;5;124mavg\u001B[39m\u001B[38;5;124m'\u001B[39m,\n\u001B[1;32m     13\u001B[0m     max_loss\u001B[38;5;241m=\u001B[39m\u001B[38;5;241m0.1\u001B[39m\n\u001B[1;32m     14\u001B[0m )\n\u001B[1;32m     16\u001B[0m \u001B[38;5;66;03m# 获取整理后的因子的IC值\u001B[39;00m\n\u001B[1;32m     17\u001B[0m far\u001B[38;5;241m.\u001B[39mic\n",
      "File \u001B[0;32m/opt/homebrew/anaconda3/lib/python3.11/site-packages/jqfactor_analyzer/__init__.py:37\u001B[0m, in \u001B[0;36manalyze_factor\u001B[0;34m(factor, industry, quantiles, periods, weight_method, max_loss)\u001B[0m\n\u001B[1;32m     12\u001B[0m \u001B[38;5;250m\u001B[39m\u001B[38;5;124;03m\"\"\"单因子分析\u001B[39;00m\n\u001B[1;32m     13\u001B[0m \n\u001B[1;32m     14\u001B[0m \u001B[38;5;124;03m输入:\u001B[39;00m\n\u001B[0;32m   (...)\u001B[0m\n\u001B[1;32m     33\u001B[0m \u001B[38;5;124;03m    max_loss: 因重复值或nan值太多而无效的因子值的最大占比, 默认为 0.25\u001B[39;00m\n\u001B[1;32m     34\u001B[0m \u001B[38;5;124;03m\"\"\"\u001B[39;00m\n\u001B[1;32m     36\u001B[0m dataapi \u001B[38;5;241m=\u001B[39m DataApi(industry\u001B[38;5;241m=\u001B[39mindustry, weight_method\u001B[38;5;241m=\u001B[39mweight_method)\n\u001B[0;32m---> 37\u001B[0m \u001B[38;5;28;01mreturn\u001B[39;00m FactorAnalyzer(factor,\n\u001B[1;32m     38\u001B[0m                       quantiles\u001B[38;5;241m=\u001B[39mquantiles,\n\u001B[1;32m     39\u001B[0m                       periods\u001B[38;5;241m=\u001B[39mperiods,\n\u001B[1;32m     40\u001B[0m                       max_loss\u001B[38;5;241m=\u001B[39mmax_loss,\n\u001B[1;32m     41\u001B[0m                       \u001B[38;5;241m*\u001B[39m\u001B[38;5;241m*\u001B[39mdataapi\u001B[38;5;241m.\u001B[39mapis)\n",
      "File \u001B[0;32m/opt/homebrew/anaconda3/lib/python3.11/site-packages/jqfactor_analyzer/analyze.py:251\u001B[0m, in \u001B[0;36mFactorAnalyzer.__init__\u001B[0;34m(self, factor, prices, groupby, weights, quantiles, bins, periods, binning_by_group, max_loss, zero_aware)\u001B[0m\n\u001B[1;32m    248\u001B[0m \u001B[38;5;28mself\u001B[39m\u001B[38;5;241m.\u001B[39m_max_loss \u001B[38;5;241m=\u001B[39m max_loss\n\u001B[1;32m    249\u001B[0m \u001B[38;5;28mself\u001B[39m\u001B[38;5;241m.\u001B[39m_zero_aware \u001B[38;5;241m=\u001B[39m zero_aware\n\u001B[0;32m--> 251\u001B[0m \u001B[38;5;28mself\u001B[39m\u001B[38;5;241m.\u001B[39m__gen_clean_factor_and_forward_returns()\n",
      "File \u001B[0;32m/opt/homebrew/anaconda3/lib/python3.11/site-packages/jqfactor_analyzer/analyze.py:265\u001B[0m, in \u001B[0;36mFactorAnalyzer.__gen_clean_factor_and_forward_returns\u001B[0;34m(self)\u001B[0m\n\u001B[1;32m    262\u001B[0m end_date \u001B[38;5;241m=\u001B[39m \u001B[38;5;28mmax\u001B[39m(factor_data\u001B[38;5;241m.\u001B[39mindex\u001B[38;5;241m.\u001B[39mget_level_values(\u001B[38;5;241m0\u001B[39m))\n\u001B[1;32m    264\u001B[0m \u001B[38;5;28;01mif\u001B[39;00m \u001B[38;5;28mhasattr\u001B[39m(\u001B[38;5;28mself\u001B[39m\u001B[38;5;241m.\u001B[39mprices, \u001B[38;5;124m\"\u001B[39m\u001B[38;5;124m__call__\u001B[39m\u001B[38;5;124m\"\u001B[39m):\n\u001B[0;32m--> 265\u001B[0m     prices \u001B[38;5;241m=\u001B[39m \u001B[38;5;28mself\u001B[39m\u001B[38;5;241m.\u001B[39mprices(securities\u001B[38;5;241m=\u001B[39mstocks,\n\u001B[1;32m    266\u001B[0m                          start_date\u001B[38;5;241m=\u001B[39mstart_date,\n\u001B[1;32m    267\u001B[0m                          end_date\u001B[38;5;241m=\u001B[39mend_date,\n\u001B[1;32m    268\u001B[0m                          period\u001B[38;5;241m=\u001B[39m\u001B[38;5;28mmax\u001B[39m(\u001B[38;5;28mself\u001B[39m\u001B[38;5;241m.\u001B[39m_periods))\n\u001B[1;32m    269\u001B[0m     prices \u001B[38;5;241m=\u001B[39m prices\u001B[38;5;241m.\u001B[39mloc[\u001B[38;5;241m~\u001B[39mprices\u001B[38;5;241m.\u001B[39mindex\u001B[38;5;241m.\u001B[39mduplicated()]\n\u001B[1;32m    270\u001B[0m \u001B[38;5;28;01melse\u001B[39;00m:\n",
      "File \u001B[0;32m/opt/homebrew/anaconda3/lib/python3.11/site-packages/jqfactor_analyzer/data.py:194\u001B[0m, in \u001B[0;36mDataApi.get_prices\u001B[0;34m(self, securities, start_date, end_date, period)\u001B[0m\n\u001B[1;32m    192\u001B[0m     \u001B[38;5;28;01mif\u001B[39;00m \u001B[38;5;28mlen\u001B[39m(trade_days):\n\u001B[1;32m    193\u001B[0m         end_date \u001B[38;5;241m=\u001B[39m trade_days[:period \u001B[38;5;241m+\u001B[39m \u001B[38;5;241m1\u001B[39m][\u001B[38;5;241m-\u001B[39m\u001B[38;5;241m1\u001B[39m]\n\u001B[0;32m--> 194\u001B[0m p \u001B[38;5;241m=\u001B[39m \u001B[38;5;28mself\u001B[39m\u001B[38;5;241m.\u001B[39m_get_price(\n\u001B[1;32m    195\u001B[0m     fields\u001B[38;5;241m=\u001B[39m[\u001B[38;5;28mself\u001B[39m\u001B[38;5;241m.\u001B[39mprice], securities\u001B[38;5;241m=\u001B[39msecurities,\n\u001B[1;32m    196\u001B[0m     start_date\u001B[38;5;241m=\u001B[39mstart_date, end_date\u001B[38;5;241m=\u001B[39mend_date,\n\u001B[1;32m    197\u001B[0m     fq\u001B[38;5;241m=\u001B[39m\u001B[38;5;28mself\u001B[39m\u001B[38;5;241m.\u001B[39mfq\n\u001B[1;32m    198\u001B[0m )\n\u001B[1;32m    199\u001B[0m p \u001B[38;5;241m=\u001B[39m p\u001B[38;5;241m.\u001B[39mset_index([\u001B[38;5;124m'\u001B[39m\u001B[38;5;124mtime\u001B[39m\u001B[38;5;124m'\u001B[39m, \u001B[38;5;124m'\u001B[39m\u001B[38;5;124mcode\u001B[39m\u001B[38;5;124m'\u001B[39m])[\u001B[38;5;28mself\u001B[39m\u001B[38;5;241m.\u001B[39mprice]\u001B[38;5;241m.\u001B[39munstack(\u001B[38;5;124m'\u001B[39m\u001B[38;5;124mcode\u001B[39m\u001B[38;5;124m'\u001B[39m)\u001B[38;5;241m.\u001B[39msort_index()\n\u001B[1;32m    200\u001B[0m \u001B[38;5;28;01mreturn\u001B[39;00m p\n",
      "File \u001B[0;32m/opt/homebrew/anaconda3/lib/python3.11/site-packages/jqfactor_analyzer/data.py:178\u001B[0m, in \u001B[0;36mDataApi._get_price\u001B[0;34m(self, securities, start_date, end_date, count, fields, skip_paused, fq)\u001B[0m\n\u001B[1;32m    176\u001B[0m \u001B[38;5;28;01melse\u001B[39;00m:\n\u001B[1;32m    177\u001B[0m     get_price \u001B[38;5;241m=\u001B[39m \u001B[38;5;28mself\u001B[39m\u001B[38;5;241m.\u001B[39mapi\u001B[38;5;241m.\u001B[39mget_price\n\u001B[0;32m--> 178\u001B[0m p \u001B[38;5;241m=\u001B[39m get_price(\n\u001B[1;32m    179\u001B[0m     securities, start_date\u001B[38;5;241m=\u001B[39mstart_date, end_date\u001B[38;5;241m=\u001B[39mend_date, count\u001B[38;5;241m=\u001B[39mcount,\n\u001B[1;32m    180\u001B[0m     fields\u001B[38;5;241m=\u001B[39mfields, skip_paused\u001B[38;5;241m=\u001B[39mskip_paused, fq\u001B[38;5;241m=\u001B[39mfq\n\u001B[1;32m    181\u001B[0m )\n\u001B[1;32m    182\u001B[0m \u001B[38;5;28;01mif\u001B[39;00m \u001B[38;5;28mhasattr\u001B[39m(p, \u001B[38;5;124m'\u001B[39m\u001B[38;5;124mto_frame\u001B[39m\u001B[38;5;124m'\u001B[39m):\n\u001B[1;32m    183\u001B[0m     p \u001B[38;5;241m=\u001B[39m p\u001B[38;5;241m.\u001B[39mto_frame()\n",
      "File \u001B[0;32m/opt/homebrew/anaconda3/lib/python3.11/site-packages/jqdatasdk/utils.py:350\u001B[0m, in \u001B[0;36massert_auth.<locals>._wrapper\u001B[0;34m(*args, **kwargs)\u001B[0m\n\u001B[1;32m    348\u001B[0m     \u001B[38;5;28;01mraise\u001B[39;00m \u001B[38;5;167;01mException\u001B[39;00m(\u001B[38;5;124m\"\u001B[39m\u001B[38;5;124mPlease run jqdatasdk.auth first\u001B[39m\u001B[38;5;124m\"\u001B[39m)\n\u001B[1;32m    349\u001B[0m \u001B[38;5;28;01melse\u001B[39;00m:\n\u001B[0;32m--> 350\u001B[0m     \u001B[38;5;28;01mreturn\u001B[39;00m func(\u001B[38;5;241m*\u001B[39margs, \u001B[38;5;241m*\u001B[39m\u001B[38;5;241m*\u001B[39mkwargs)\n",
      "File \u001B[0;32m/opt/homebrew/anaconda3/lib/python3.11/site-packages/jqdatasdk/api.py:39\u001B[0m, in \u001B[0;36mget_price\u001B[0;34m(security, start_date, end_date, frequency, fields, skip_paused, fq, count, panel, fill_paused, round)\u001B[0m\n\u001B[1;32m     37\u001B[0m \u001B[38;5;28;01mif\u001B[39;00m count \u001B[38;5;129;01mand\u001B[39;00m start_date:\n\u001B[1;32m     38\u001B[0m     \u001B[38;5;28;01mraise\u001B[39;00m ParamsError(\u001B[38;5;124m\"\u001B[39m\u001B[38;5;124m(start_date, count) only one param is required\u001B[39m\u001B[38;5;124m\"\u001B[39m)\n\u001B[0;32m---> 39\u001B[0m \u001B[38;5;28;01mreturn\u001B[39;00m JQDataClient\u001B[38;5;241m.\u001B[39minstance()\u001B[38;5;241m.\u001B[39mget_price(\u001B[38;5;241m*\u001B[39m\u001B[38;5;241m*\u001B[39m\u001B[38;5;28mlocals\u001B[39m())\n",
      "File \u001B[0;32m/opt/homebrew/anaconda3/lib/python3.11/site-packages/jqdatasdk/client.py:372\u001B[0m, in \u001B[0;36mJQDataClient.__getattr__.<locals>.<lambda>\u001B[0;34m(**kwargs)\u001B[0m\n\u001B[1;32m    371\u001B[0m \u001B[38;5;28;01mdef\u001B[39;00m \u001B[38;5;21m__getattr__\u001B[39m(\u001B[38;5;28mself\u001B[39m, method):\n\u001B[0;32m--> 372\u001B[0m     \u001B[38;5;28;01mreturn\u001B[39;00m \u001B[38;5;28;01mlambda\u001B[39;00m \u001B[38;5;241m*\u001B[39m\u001B[38;5;241m*\u001B[39mkwargs: \u001B[38;5;28mself\u001B[39m(method, \u001B[38;5;241m*\u001B[39m\u001B[38;5;241m*\u001B[39mkwargs)\n",
      "File \u001B[0;32m/opt/homebrew/anaconda3/lib/python3.11/site-packages/jqdatasdk/client.py:356\u001B[0m, in \u001B[0;36mJQDataClient.__call__\u001B[0;34m(self, method, **kwargs)\u001B[0m\n\u001B[1;32m    354\u001B[0m \u001B[38;5;28;01mfor\u001B[39;00m _ \u001B[38;5;129;01min\u001B[39;00m \u001B[38;5;28mrange\u001B[39m(\u001B[38;5;28mself\u001B[39m\u001B[38;5;241m.\u001B[39mrequest_attempt_count):\n\u001B[1;32m    355\u001B[0m     \u001B[38;5;28;01mtry\u001B[39;00m:\n\u001B[0;32m--> 356\u001B[0m         result \u001B[38;5;241m=\u001B[39m \u001B[38;5;28mself\u001B[39m\u001B[38;5;241m.\u001B[39mquery(method, kwargs)\n\u001B[1;32m    357\u001B[0m         \u001B[38;5;28;01mbreak\u001B[39;00m\n\u001B[1;32m    358\u001B[0m     \u001B[38;5;28;01mexcept\u001B[39;00m socket_error \u001B[38;5;28;01mas\u001B[39;00m ex:\n",
      "File \u001B[0;32m/opt/homebrew/anaconda3/lib/python3.11/site-packages/jqdatasdk/client.py:277\u001B[0m, in \u001B[0;36mJQDataClient.query\u001B[0;34m(self, method, params)\u001B[0m\n\u001B[1;32m    275\u001B[0m         result \u001B[38;5;241m=\u001B[39m pc\u001B[38;5;241m.\u001B[39mload(buffer, encoding\u001B[38;5;241m=\u001B[39mpickle_encoding)\n\u001B[1;32m    276\u001B[0m     \u001B[38;5;28;01melse\u001B[39;00m:\n\u001B[0;32m--> 277\u001B[0m         \u001B[38;5;28;01mraise\u001B[39;00m \u001B[38;5;28mself\u001B[39m\u001B[38;5;241m.\u001B[39mget_error(response)\n\u001B[1;32m    278\u001B[0m \u001B[38;5;28;01mfinally\u001B[39;00m:\n\u001B[1;32m    279\u001B[0m     buffer\u001B[38;5;241m.\u001B[39mclose()\n",
      "\u001B[0;31mException\u001B[0m: 您的账号权限仅能获取2022-04-25至2023-05-02的数据，请调整时间参数后重试。如需更长时间的数据范围，可联系运营咨询采购"
     ]
    }
   ],
   "source": [
    "# 获取5日平均换手率因子2018-01-01到2018-12-31之间的数据（示例用从库中直接调取）\n",
    "# 聚宽因子库数据获取方法在下方\n",
    "from jqfactor_analyzer.sample import VOL5\n",
    "factor_data = VOL5\n",
    "\n",
    "# 对因子进行分析\n",
    "far = ja.analyze_factor(\n",
    "    factor_data,  # factor_data 为因子值的 pandas.DataFrame\n",
    "    quantiles=10,\n",
    "    periods=(1, 10),\n",
    "    industry='jq_l1',\n",
    "    weight_method='avg',\n",
    "    max_loss=0.1\n",
    ")\n",
    "\n",
    "# 获取整理后的因子的IC值\n",
    "far.ic"
   ]
  },
  {
   "cell_type": "code",
   "execution_count": 30,
   "id": "572d8833-b744-4ff1-835e-f86dab0a9e35",
   "metadata": {
    "tags": []
   },
   "outputs": [
    {
     "data": {
      "text/plain": [
       "pandas.core.frame.DataFrame"
      ]
     },
     "execution_count": 30,
     "metadata": {},
     "output_type": "execute_result"
    }
   ],
   "source": [
    "tqqq = yf.Ticker(\"TQQQ\")\n",
    "\n",
    "# get all stock info\n",
    "tqqq.history(period=\"1mo\")\n",
    "#tqqq.history?"
   ]
  },
  {
   "cell_type": "code",
   "execution_count": 30,
   "id": "38abd1f3-8eb7-42c8-97a4-234aba0c381c",
   "metadata": {
    "tags": []
   },
   "outputs": [
    {
     "data": {
      "text/plain": [
       "pandas.core.frame.DataFrame"
      ]
     },
     "execution_count": 30,
     "metadata": {},
     "output_type": "execute_result"
    }
   ],
   "source": [
    "#hushen 300"
   ]
  },
  {
   "cell_type": "code",
   "execution_count": 4,
   "id": "ab8df130-369a-4eb7-9413-cbf846f76e45",
   "metadata": {
    "tags": []
   },
   "outputs": [
    {
     "name": "stdout",
     "output_type": "stream",
     "text": [
      "Note: you may need to restart the kernel to use updated packages.\n"
     ]
    }
   ],
   "source": []
  },
  {
   "cell_type": "code",
   "execution_count": 4,
   "id": "ab45ff1e-c594-49d6-93ee-5cad668661e6",
   "metadata": {
    "tags": []
   },
   "outputs": [
    {
     "name": "stdout",
     "output_type": "stream",
     "text": [
      "Note: you may need to restart the kernel to use updated packages.\n"
     ]
    }
   ],
   "source": []
  },
  {
   "cell_type": "code",
   "execution_count": 4,
   "id": "7b5dddeb-ea0a-4034-8891-fc3c6044272f",
   "metadata": {
    "tags": []
   },
   "outputs": [
    {
     "name": "stdout",
     "output_type": "stream",
     "text": [
      "Note: you may need to restart the kernel to use updated packages.\n"
     ]
    }
   ],
   "source": []
  },
  {
   "cell_type": "code",
   "execution_count": null,
   "id": "a3559052-70a6-4c9c-9311-9efd861ad18a",
   "metadata": {},
   "outputs": [],
   "source": []
  }
 ],
 "metadata": {
  "kernelspec": {
   "display_name": "Python 3 (ipykernel)",
   "language": "python",
   "name": "python3"
  },
  "language_info": {
   "codemirror_mode": {
    "name": "ipython",
    "version": 3
   },
   "file_extension": ".py",
   "mimetype": "text/x-python",
   "name": "python",
   "nbconvert_exporter": "python",
   "pygments_lexer": "ipython3",
   "version": "3.11.3"
  }
 },
 "nbformat": 4,
 "nbformat_minor": 5
}
