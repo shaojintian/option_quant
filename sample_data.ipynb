{
 "cells": [
  {
   "cell_type": "code",
   "execution_count": 1,
   "id": "c5668274-8f90-433a-be0e-d3e5f0deb758",
   "metadata": {
    "tags": []
   },
   "outputs": [],
   "source": [
    "#外盘期货数据1mins采集"
   ]
  },
  {
   "cell_type": "code",
   "execution_count": 2,
   "id": "824987e7-935b-4bc6-988b-740d2ea9a2fa",
   "metadata": {
    "tags": []
   },
   "outputs": [],
   "source": [
    "import pandas as pd\n",
    "import numpy as np\n",
    "import jqfactor_analyzer as ja\n",
    "import numba\n",
    "import yfinance as yf\n",
    "import backtrader as bk\n",
    "import akshare as ak\n",
    "import os\n",
    "import scipy\n",
    "import time "
   ]
  },
  {
   "cell_type": "code",
   "execution_count": null,
   "id": "9b076017-38a7-40e0-b874-ce215197e7bd",
   "metadata": {
    "tags": []
   },
   "outputs": [
    {
     "name": "stdout",
     "output_type": "stream",
     "text": [
      "开始接收实时行情, 每 3 秒刷新一次\n",
      "        名称       最新价           人民币报价     涨跌额       涨跌幅      开盘价     最高价  \\\n",
      "0  LME铜3个月  8314.100  1325694.436776 -71.900 -0.857381  8355.00  8390.5   \n",
      "1    布伦特原油    86.071      622.517115  -0.329 -0.380787    86.37    86.7   \n",
      "\n",
      "       最低价   昨日结算价     持仓量       买价      卖价      行情时间          日期  \n",
      "0  8288.00  8386.0  9292.0  8316.00  8318.5  17:25:09  2023-08-11  \n",
      "1    85.99    86.4     0.0    86.09    86.1  17:26:44  2023-08-11  \n",
      "        名称       最新价           人民币报价     涨跌额       涨跌幅      开盘价     最高价  \\\n",
      "0  LME铜3个月  8311.400  1325263.918142 -74.600 -0.889578  8355.00  8390.5   \n",
      "1    布伦特原油    86.053      622.386928  -0.347 -0.401620    86.37    86.7   \n",
      "\n",
      "       最低价   昨日结算价     持仓量       买价       卖价      行情时间          日期  \n",
      "0  8288.00  8386.0  9296.0  8313.50  8315.00  17:27:31  2023-08-11  \n",
      "1    85.99    86.4     0.0    86.06    86.07  17:27:40  2023-08-11  \n",
      "        名称       最新价           人民币报价     涨跌额       涨跌幅      开盘价     最高价  \\\n",
      "0  LME铜3个月  8306.000  1324091.584119 -80.000 -0.953971  8355.00  8390.5   \n",
      "1    布伦特原油    86.044       622.17556  -0.356 -0.412037    86.37    86.7   \n",
      "\n",
      "       最低价   昨日结算价     持仓量       买价       卖价      行情时间          日期  \n",
      "0  8288.00  8386.0  9312.0  8307.50  8309.50  17:28:38  2023-08-11  \n",
      "1    85.99    86.4     0.0    86.04    86.05  17:28:42  2023-08-11  \n",
      "        名称       最新价           人民币报价     涨跌额       涨跌幅      开盘价     最高价  \\\n",
      "0  LME铜3个月  8306.000  1324091.584119 -80.000 -0.953971  8355.00  8390.5   \n",
      "1    布伦特原油    85.965      621.604319  -0.435 -0.503472    86.37    86.7   \n",
      "\n",
      "       最低价   昨日结算价     持仓量       买价       卖价      行情时间          日期  \n",
      "0  8288.00  8386.0  9319.0  8307.50  8309.00  17:29:14  2023-08-11  \n",
      "1    85.92    86.4     0.0    85.97    85.98  17:29:44  2023-08-11  \n",
      "        名称       最新价           人民币报价     涨跌额       涨跌幅      开盘价     最高价  \\\n",
      "0  LME铜3个月  8308.700  1324631.906719 -77.300 -0.921774  8355.00  8390.5   \n",
      "1    布伦特原油    85.956      621.590814  -0.444 -0.513889    86.37    86.7   \n",
      "\n",
      "       最低价   昨日结算价     持仓量       买价       卖价      行情时间          日期  \n",
      "0  8288.00  8386.0  9323.0  8310.00  8311.50  17:30:33  2023-08-11  \n",
      "1    85.92    86.4     0.0    85.96    85.97  17:30:40  2023-08-11  \n",
      "        名称       最新价           人民币报价     涨跌额       涨跌幅      开盘价     最高价  \\\n",
      "0  LME铜3个月  8309.150  1324886.834095 -76.850 -0.916408  8355.00  8390.5   \n",
      "1    布伦特原油    85.905      621.307913  -0.495 -0.572917    86.37    86.7   \n",
      "\n",
      "       最低价   昨日结算价     持仓量      买价       卖价      行情时间          日期  \n",
      "0  8288.00  8386.0  9327.0  8311.5  8313.00  17:31:33  2023-08-11  \n",
      "1    85.86    86.4     0.0    85.9    85.91  17:31:43  2023-08-11  \n",
      "        名称       最新价           人民币报价     涨跌额       涨跌幅      开盘价     最高价  \\\n",
      "0  LME铜3个月  8306.900  1324528.073526 -79.100 -0.943239  8355.00  8390.5   \n",
      "1    布伦特原油    85.923      621.438098  -0.477 -0.552083    86.37    86.7   \n",
      "\n",
      "       最低价   昨日结算价  持仓量       买价       卖价      行情时间          日期  \n",
      "0  8288.00  8386.0  0.0  8309.00  8310.00  17:32:45  2023-08-11  \n",
      "1    85.86    86.4  0.0    85.92    85.93  17:32:45  2023-08-11  \n"
     ]
    },
    {
     "ename": "KeyboardInterrupt",
     "evalue": "",
     "output_type": "error",
     "traceback": [
      "\u001b[0;31m---------------------------------------------------------------------------\u001b[0m",
      "\u001b[0;31mKeyboardInterrupt\u001b[0m                         Traceback (most recent call last)",
      "Cell \u001b[0;32mIn[3], line 6\u001b[0m\n\u001b[1;32m      4\u001b[0m futures_foreign_commodity_realtime_df \u001b[38;5;241m=\u001b[39m ak\u001b[38;5;241m.\u001b[39mfutures_foreign_commodity_realtime(subscribe_list\u001b[38;5;241m=\u001b[39msubscribe_list)\n\u001b[1;32m      5\u001b[0m \u001b[38;5;28mprint\u001b[39m(futures_foreign_commodity_realtime_df)\n\u001b[0;32m----> 6\u001b[0m time\u001b[38;5;241m.\u001b[39msleep(\u001b[38;5;241m60\u001b[39m)\n",
      "\u001b[0;31mKeyboardInterrupt\u001b[0m: "
     ]
    }
   ],
   "source": [
    "print(\"开始接收实时行情, 每 3 秒刷新一次\")\n",
    "subscribe_list = ['CAD','OIL']\n",
    "while True:\n",
    "    futures_foreign_commodity_realtime_df = ak.futures_foreign_commodity_realtime(subscribe_list=subscribe_list)\n",
    "    print(futures_foreign_commodity_realtime_df)\n",
    "    time.sleep(60)"
   ]
  },
  {
   "cell_type": "code",
   "execution_count": null,
   "id": "d7524ca2-0250-4b8b-b8ff-184a14f08e03",
   "metadata": {},
   "outputs": [],
   "source": []
  }
 ],
 "metadata": {
  "kernelspec": {
   "display_name": "Python 3 (ipykernel)",
   "language": "python",
   "name": "python3"
  },
  "language_info": {
   "codemirror_mode": {
    "name": "ipython",
    "version": 3
   },
   "file_extension": ".py",
   "mimetype": "text/x-python",
   "name": "python",
   "nbconvert_exporter": "python",
   "pygments_lexer": "ipython3",
   "version": "3.11.3"
  }
 },
 "nbformat": 4,
 "nbformat_minor": 5
}
